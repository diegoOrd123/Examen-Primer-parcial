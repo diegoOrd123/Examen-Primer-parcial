{
  "nbformat": 4,
  "nbformat_minor": 0,
  "metadata": {
    "colab": {
      "provenance": [],
      "authorship_tag": "ABX9TyPqOWEsl8qcWrjOYH2rqx/k",
      "include_colab_link": true
    },
    "kernelspec": {
      "name": "python3",
      "display_name": "Python 3"
    },
    "language_info": {
      "name": "python"
    }
  },
  "cells": [
    {
      "cell_type": "markdown",
      "metadata": {
        "id": "view-in-github",
        "colab_type": "text"
      },
      "source": [
        "<a href=\"https://colab.research.google.com/github/diegoOrd123/Examen-Primer-parcial/blob/main/Primer_parcial.ipynb\" target=\"_parent\"><img src=\"https://colab.research.google.com/assets/colab-badge.svg\" alt=\"Open In Colab\"/></a>"
      ]
    },
    {
      "cell_type": "code",
      "execution_count": 1,
      "metadata": {
        "colab": {
          "base_uri": "https://localhost:8080/"
        },
        "id": "jVbwIyZXBxy-",
        "outputId": "5b03ef5c-c269-4a88-a804-12a97e741dc9"
      },
      "outputs": [
        {
          "output_type": "stream",
          "name": "stdout",
          "text": [
            "Mounted at /content/drive\n"
          ]
        }
      ],
      "source": [
        "from google.colab import drive\n",
        "drive.mount('/content/drive')"
      ]
    },
    {
      "cell_type": "markdown",
      "source": [
        "Importamos las librerias necesarias"
      ],
      "metadata": {
        "id": "cTVm2zBlFW9J"
      }
    },
    {
      "cell_type": "code",
      "source": [
        "import os\n",
        "import numpy as np\n",
        "import pandas as pd\n",
        "from matplotlib import pyplot\n",
        "import matplotlib.pyplot as plt\n",
        "from scipy import optimize"
      ],
      "metadata": {
        "id": "RmqiEbZNFUWB"
      },
      "execution_count": 63,
      "outputs": []
    },
    {
      "cell_type": "markdown",
      "source": [
        "Se lee el dataset y se muestran sus características"
      ],
      "metadata": {
        "id": "V3CrFGTbWBIV"
      }
    },
    {
      "cell_type": "code",
      "source": [
        "num_labels = 5\n",
        "data = pd.read_csv('/content/drive/MyDrive/Dataset/Base.csv', delimiter=';')\n",
        "print(data.shape)\n",
        "data.info()"
      ],
      "metadata": {
        "colab": {
          "base_uri": "https://localhost:8080/"
        },
        "id": "AtF0PlnRFzRf",
        "outputId": "14f95d50-0982-4c9e-e1c1-979bc89c10a3"
      },
      "execution_count": 64,
      "outputs": [
        {
          "output_type": "stream",
          "name": "stdout",
          "text": [
            "(1000000, 14)\n",
            "<class 'pandas.core.frame.DataFrame'>\n",
            "RangeIndex: 1000000 entries, 0 to 999999\n",
            "Data columns (total 14 columns):\n",
            " #   Column                        Non-Null Count    Dtype  \n",
            "---  ------                        --------------    -----  \n",
            " 0   income                        1000000 non-null  float64\n",
            " 1   name_email_similarity         1000000 non-null  float64\n",
            " 2   prev_address_months_count     1000000 non-null  int64  \n",
            " 3   current_address_months_count  1000000 non-null  int64  \n",
            " 4   customer_age                  1000000 non-null  int64  \n",
            " 5   intended_balcon_amount        1000000 non-null  float64\n",
            " 6   zip_count_4w                  1000000 non-null  int64  \n",
            " 7   velocity_6h                   1000000 non-null  float64\n",
            " 8   velocity_24h                  1000000 non-null  float64\n",
            " 9   velocity_4w                   1000000 non-null  float64\n",
            " 10  credit_risk_score             1000000 non-null  int64  \n",
            " 11  bank_months_count             1000000 non-null  int64  \n",
            " 12  proposed_credit_limit         1000000 non-null  int64  \n",
            " 13  payment_type                  1000000 non-null  object \n",
            "dtypes: float64(6), int64(7), object(1)\n",
            "memory usage: 106.8+ MB\n"
          ]
        }
      ]
    },
    {
      "cell_type": "code",
      "source": [
        "\n",
        "def generate_synthetic_data_with_perturbations(num_samples, real_data):\n",
        "    synthetic_data = {}\n",
        "\n",
        "    perturbation_scale = 0.1\n",
        "\n",
        "    for col in real_data.columns:\n",
        "        if real_data[col].dtype in [np.float64, np.int64]:\n",
        "            unique_values = real_data[col].values\n",
        "\n",
        "            base_values = np.random.choice(unique_values, size=num_samples)\n",
        "            perturbations = base_values * np.random.uniform(-perturbation_scale, perturbation_scale, size=num_samples)\n",
        "            synthetic_data[col] = base_values + perturbations\n",
        "\n",
        "        elif real_data[col].dtype == object:\n",
        "\n",
        "            synthetic_data[col] = np.random.choice(real_data[col].unique(), size=num_samples)\n",
        "\n",
        "    return pd.DataFrame(synthetic_data)\n",
        "\n",
        "\n",
        "\n",
        "syntheticData = generate_synthetic_data_with_perturbations(1000000, data)\n",
        "\n",
        "combinedData = pd.concat([data, syntheticData], ignore_index=True)\n",
        "\n",
        "print(combinedData.shape)"
      ],
      "metadata": {
        "colab": {
          "base_uri": "https://localhost:8080/"
        },
        "id": "xBS8eJIwtYmg",
        "outputId": "9a45e992-712a-4600-f1de-f08c129adebc"
      },
      "execution_count": 65,
      "outputs": [
        {
          "output_type": "stream",
          "name": "stdout",
          "text": [
            "(2000000, 14)\n"
          ]
        }
      ]
    },
    {
      "cell_type": "code",
      "source": [
        "y = combinedData.iloc[:, -1]\n",
        "print(y)\n",
        "mapping = {'AB': 0, 'AA': 1, 'AC': 2, 'AE': 3, 'AD': 4}\n",
        "def convert_column_to_numeric(data, mapping):\n",
        "    vectorized_map = np.vectorize(mapping.get)\n",
        "    numeric_data = vectorized_map(data)\n",
        "    return numeric_data\n",
        "numeric_data = convert_column_to_numeric(y, mapping)\n",
        "y = numeric_data\n",
        "print(y)"
      ],
      "metadata": {
        "colab": {
          "base_uri": "https://localhost:8080/"
        },
        "id": "hD_4EprzLuRe",
        "outputId": "76d01c42-4ac0-486d-c050-365f31062f5b"
      },
      "execution_count": 66,
      "outputs": [
        {
          "output_type": "stream",
          "name": "stdout",
          "text": [
            "0          AA\n",
            "1          AD\n",
            "2          AB\n",
            "3          AB\n",
            "4          AA\n",
            "           ..\n",
            "1999995    AA\n",
            "1999996    AD\n",
            "1999997    AC\n",
            "1999998    AD\n",
            "1999999    AB\n",
            "Name: payment_type, Length: 2000000, dtype: object\n",
            "[1 4 0 ... 2 4 0]\n"
          ]
        }
      ]
    },
    {
      "cell_type": "code",
      "source": [
        "X=combinedData.iloc[:,:-1]\n",
        "print(X.shape)\n",
        "def income_group(income):\n",
        "    if income < 3:\n",
        "        return 'L'\n",
        "    elif 3 <= income < 7:\n",
        "        return 'M'\n",
        "    else:\n",
        "        return 'H'\n",
        "X['income_level'] = X['income'].apply(income_group)\n",
        "print(X.shape)\n",
        "print(X)"
      ],
      "metadata": {
        "colab": {
          "base_uri": "https://localhost:8080/"
        },
        "id": "N4JAvCoLOzm-",
        "outputId": "7c6dfbc9-c9cd-4cbb-c4d6-88bc2135cbdb"
      },
      "execution_count": 67,
      "outputs": [
        {
          "output_type": "stream",
          "name": "stdout",
          "text": [
            "(2000000, 13)\n",
            "(2000000, 14)\n",
            "               income  name_email_similarity  prev_address_months_count  \\\n",
            "0        3.000000e+00           9.865060e+14                  -1.000000   \n",
            "1        8.000000e+00           6.174260e+15                  -1.000000   \n",
            "2        8.000000e+00           9.967070e+15                   9.000000   \n",
            "3        6.000000e+15           4.751000e+15                  11.000000   \n",
            "4        9.000000e+00           8.423070e+15                  -1.000000   \n",
            "...               ...                    ...                        ...   \n",
            "1999995  4.010849e+00           6.905048e+15                  -1.087328   \n",
            "1999996  6.241609e+15           4.561607e+15                  -1.009377   \n",
            "1999997  5.131955e+00           8.189131e+15                  -0.949645   \n",
            "1999998  4.269450e+00           4.627963e+15                  19.202262   \n",
            "1999999  8.583770e+00           3.058388e+15                  -1.066432   \n",
            "\n",
            "         current_address_months_count  customer_age  intended_balcon_amount  \\\n",
            "0                           25.000000     40.000000            1.024540e+16   \n",
            "1                           89.000000     20.000000           -8.495510e+15   \n",
            "2                           14.000000     40.000000           -1.490390e+16   \n",
            "3                           14.000000     30.000000           -1.863100e+16   \n",
            "4                           29.000000     40.000000            4.715250e+16   \n",
            "...                               ...           ...                     ...   \n",
            "1999995                      9.875417     41.866352            8.691507e+15   \n",
            "1999996                     23.911287     56.880665           -4.216332e+14   \n",
            "1999997                    357.585158     39.700897           -1.123295e+16   \n",
            "1999998                     45.814884     28.729003            1.024607e+16   \n",
            "1999999                    277.218193     19.470799           -1.733392e+16   \n",
            "\n",
            "         zip_count_4w   velocity_6h  velocity_24h   velocity_4w  \\\n",
            "0         1059.000000  1.309600e+16  7.850960e+15  6.742080e+15   \n",
            "1         1658.000000  9.223280e+15  5.745250e+15  5.941660e+16   \n",
            "2         1095.000000  4.471470e+15  5.471990e+15  5.992560e+15   \n",
            "3         3483.000000  1.443200e+16  6.755340e+14  5.970340e+15   \n",
            "4         2339.000000  7.601510e+15  5.124050e+15  5.940730e+15   \n",
            "...               ...           ...           ...           ...   \n",
            "1999995   1391.840735  4.156822e+16  3.316171e+15  5.592265e+15   \n",
            "1999996    838.374033  1.288747e+16  4.230327e+15  6.050144e+15   \n",
            "1999997    467.888816  7.770592e+15  7.569273e+15  4.386751e+15   \n",
            "1999998   1024.929960  5.411281e+15  4.181049e+15  4.684744e+14   \n",
            "1999999   1107.115394  4.100923e+15  5.461889e+14  4.069904e+15   \n",
            "\n",
            "         credit_risk_score  bank_months_count  proposed_credit_limit  \\\n",
            "0               163.000000           9.000000           15000.000000   \n",
            "1               154.000000           2.000000           15000.000000   \n",
            "2                89.000000          30.000000            2000.000000   \n",
            "3                90.000000           1.000000            2000.000000   \n",
            "4                91.000000          26.000000            2000.000000   \n",
            "...                    ...                ...                    ...   \n",
            "1999995         148.844210          -0.973237           14677.462145   \n",
            "1999996         129.123331          -1.084123            4501.886512   \n",
            "1999997         209.048290           9.209769           14285.628643   \n",
            "1999998          98.561055           0.963706           16487.369004   \n",
            "1999999         139.789307           5.434357           10331.419749   \n",
            "\n",
            "        income_level  \n",
            "0                  M  \n",
            "1                  H  \n",
            "2                  H  \n",
            "3                  H  \n",
            "4                  H  \n",
            "...              ...  \n",
            "1999995            M  \n",
            "1999996            H  \n",
            "1999997            M  \n",
            "1999998            M  \n",
            "1999999            H  \n",
            "\n",
            "[2000000 rows x 14 columns]\n"
          ]
        }
      ]
    },
    {
      "cell_type": "code",
      "source": [
        "X['has_long_stable_address'] = (\n",
        "    (X['prev_address_months_count'] >= 52) |\n",
        "    (X['current_address_months_count'] >= 52)\n",
        ").astype(int)\n",
        "print(X.shape)\n",
        "print(X)"
      ],
      "metadata": {
        "colab": {
          "base_uri": "https://localhost:8080/"
        },
        "id": "Hf06xVWJS5y0",
        "outputId": "549b7742-8d94-4b46-fed4-4bcb83eff20d"
      },
      "execution_count": 68,
      "outputs": [
        {
          "output_type": "stream",
          "name": "stdout",
          "text": [
            "(2000000, 15)\n",
            "               income  name_email_similarity  prev_address_months_count  \\\n",
            "0        3.000000e+00           9.865060e+14                  -1.000000   \n",
            "1        8.000000e+00           6.174260e+15                  -1.000000   \n",
            "2        8.000000e+00           9.967070e+15                   9.000000   \n",
            "3        6.000000e+15           4.751000e+15                  11.000000   \n",
            "4        9.000000e+00           8.423070e+15                  -1.000000   \n",
            "...               ...                    ...                        ...   \n",
            "1999995  4.010849e+00           6.905048e+15                  -1.087328   \n",
            "1999996  6.241609e+15           4.561607e+15                  -1.009377   \n",
            "1999997  5.131955e+00           8.189131e+15                  -0.949645   \n",
            "1999998  4.269450e+00           4.627963e+15                  19.202262   \n",
            "1999999  8.583770e+00           3.058388e+15                  -1.066432   \n",
            "\n",
            "         current_address_months_count  customer_age  intended_balcon_amount  \\\n",
            "0                           25.000000     40.000000            1.024540e+16   \n",
            "1                           89.000000     20.000000           -8.495510e+15   \n",
            "2                           14.000000     40.000000           -1.490390e+16   \n",
            "3                           14.000000     30.000000           -1.863100e+16   \n",
            "4                           29.000000     40.000000            4.715250e+16   \n",
            "...                               ...           ...                     ...   \n",
            "1999995                      9.875417     41.866352            8.691507e+15   \n",
            "1999996                     23.911287     56.880665           -4.216332e+14   \n",
            "1999997                    357.585158     39.700897           -1.123295e+16   \n",
            "1999998                     45.814884     28.729003            1.024607e+16   \n",
            "1999999                    277.218193     19.470799           -1.733392e+16   \n",
            "\n",
            "         zip_count_4w   velocity_6h  velocity_24h   velocity_4w  \\\n",
            "0         1059.000000  1.309600e+16  7.850960e+15  6.742080e+15   \n",
            "1         1658.000000  9.223280e+15  5.745250e+15  5.941660e+16   \n",
            "2         1095.000000  4.471470e+15  5.471990e+15  5.992560e+15   \n",
            "3         3483.000000  1.443200e+16  6.755340e+14  5.970340e+15   \n",
            "4         2339.000000  7.601510e+15  5.124050e+15  5.940730e+15   \n",
            "...               ...           ...           ...           ...   \n",
            "1999995   1391.840735  4.156822e+16  3.316171e+15  5.592265e+15   \n",
            "1999996    838.374033  1.288747e+16  4.230327e+15  6.050144e+15   \n",
            "1999997    467.888816  7.770592e+15  7.569273e+15  4.386751e+15   \n",
            "1999998   1024.929960  5.411281e+15  4.181049e+15  4.684744e+14   \n",
            "1999999   1107.115394  4.100923e+15  5.461889e+14  4.069904e+15   \n",
            "\n",
            "         credit_risk_score  bank_months_count  proposed_credit_limit  \\\n",
            "0               163.000000           9.000000           15000.000000   \n",
            "1               154.000000           2.000000           15000.000000   \n",
            "2                89.000000          30.000000            2000.000000   \n",
            "3                90.000000           1.000000            2000.000000   \n",
            "4                91.000000          26.000000            2000.000000   \n",
            "...                    ...                ...                    ...   \n",
            "1999995         148.844210          -0.973237           14677.462145   \n",
            "1999996         129.123331          -1.084123            4501.886512   \n",
            "1999997         209.048290           9.209769           14285.628643   \n",
            "1999998          98.561055           0.963706           16487.369004   \n",
            "1999999         139.789307           5.434357           10331.419749   \n",
            "\n",
            "        income_level  has_long_stable_address  \n",
            "0                  M                        0  \n",
            "1                  H                        1  \n",
            "2                  H                        0  \n",
            "3                  H                        0  \n",
            "4                  H                        0  \n",
            "...              ...                      ...  \n",
            "1999995            M                        0  \n",
            "1999996            H                        0  \n",
            "1999997            M                        1  \n",
            "1999998            M                        0  \n",
            "1999999            H                        1  \n",
            "\n",
            "[2000000 rows x 15 columns]\n"
          ]
        }
      ]
    },
    {
      "cell_type": "code",
      "source": [
        "def risk_group(credit_risk_score):\n",
        "    if credit_risk_score <= 83:\n",
        "        return 'Low'\n",
        "    elif 83 < credit_risk_score <= 122:\n",
        "        return 'Medium'\n",
        "    elif 122 < credit_risk_score <= 178:\n",
        "        return 'High'\n",
        "    else:\n",
        "        return 'Very High'\n",
        "X['risk_category'] = X['credit_risk_score'].apply(risk_group)\n",
        "print(X.shape)\n",
        "print(X)"
      ],
      "metadata": {
        "colab": {
          "base_uri": "https://localhost:8080/"
        },
        "id": "8nxcuLcrVvaR",
        "outputId": "e8341919-d74a-4fe6-f760-209b4f650b2a"
      },
      "execution_count": 69,
      "outputs": [
        {
          "output_type": "stream",
          "name": "stdout",
          "text": [
            "(2000000, 16)\n",
            "               income  name_email_similarity  prev_address_months_count  \\\n",
            "0        3.000000e+00           9.865060e+14                  -1.000000   \n",
            "1        8.000000e+00           6.174260e+15                  -1.000000   \n",
            "2        8.000000e+00           9.967070e+15                   9.000000   \n",
            "3        6.000000e+15           4.751000e+15                  11.000000   \n",
            "4        9.000000e+00           8.423070e+15                  -1.000000   \n",
            "...               ...                    ...                        ...   \n",
            "1999995  4.010849e+00           6.905048e+15                  -1.087328   \n",
            "1999996  6.241609e+15           4.561607e+15                  -1.009377   \n",
            "1999997  5.131955e+00           8.189131e+15                  -0.949645   \n",
            "1999998  4.269450e+00           4.627963e+15                  19.202262   \n",
            "1999999  8.583770e+00           3.058388e+15                  -1.066432   \n",
            "\n",
            "         current_address_months_count  customer_age  intended_balcon_amount  \\\n",
            "0                           25.000000     40.000000            1.024540e+16   \n",
            "1                           89.000000     20.000000           -8.495510e+15   \n",
            "2                           14.000000     40.000000           -1.490390e+16   \n",
            "3                           14.000000     30.000000           -1.863100e+16   \n",
            "4                           29.000000     40.000000            4.715250e+16   \n",
            "...                               ...           ...                     ...   \n",
            "1999995                      9.875417     41.866352            8.691507e+15   \n",
            "1999996                     23.911287     56.880665           -4.216332e+14   \n",
            "1999997                    357.585158     39.700897           -1.123295e+16   \n",
            "1999998                     45.814884     28.729003            1.024607e+16   \n",
            "1999999                    277.218193     19.470799           -1.733392e+16   \n",
            "\n",
            "         zip_count_4w   velocity_6h  velocity_24h   velocity_4w  \\\n",
            "0         1059.000000  1.309600e+16  7.850960e+15  6.742080e+15   \n",
            "1         1658.000000  9.223280e+15  5.745250e+15  5.941660e+16   \n",
            "2         1095.000000  4.471470e+15  5.471990e+15  5.992560e+15   \n",
            "3         3483.000000  1.443200e+16  6.755340e+14  5.970340e+15   \n",
            "4         2339.000000  7.601510e+15  5.124050e+15  5.940730e+15   \n",
            "...               ...           ...           ...           ...   \n",
            "1999995   1391.840735  4.156822e+16  3.316171e+15  5.592265e+15   \n",
            "1999996    838.374033  1.288747e+16  4.230327e+15  6.050144e+15   \n",
            "1999997    467.888816  7.770592e+15  7.569273e+15  4.386751e+15   \n",
            "1999998   1024.929960  5.411281e+15  4.181049e+15  4.684744e+14   \n",
            "1999999   1107.115394  4.100923e+15  5.461889e+14  4.069904e+15   \n",
            "\n",
            "         credit_risk_score  bank_months_count  proposed_credit_limit  \\\n",
            "0               163.000000           9.000000           15000.000000   \n",
            "1               154.000000           2.000000           15000.000000   \n",
            "2                89.000000          30.000000            2000.000000   \n",
            "3                90.000000           1.000000            2000.000000   \n",
            "4                91.000000          26.000000            2000.000000   \n",
            "...                    ...                ...                    ...   \n",
            "1999995         148.844210          -0.973237           14677.462145   \n",
            "1999996         129.123331          -1.084123            4501.886512   \n",
            "1999997         209.048290           9.209769           14285.628643   \n",
            "1999998          98.561055           0.963706           16487.369004   \n",
            "1999999         139.789307           5.434357           10331.419749   \n",
            "\n",
            "        income_level  has_long_stable_address risk_category  \n",
            "0                  M                        0          High  \n",
            "1                  H                        1          High  \n",
            "2                  H                        0        Medium  \n",
            "3                  H                        0        Medium  \n",
            "4                  H                        0        Medium  \n",
            "...              ...                      ...           ...  \n",
            "1999995            M                        0          High  \n",
            "1999996            H                        0          High  \n",
            "1999997            M                        1     Very High  \n",
            "1999998            M                        0        Medium  \n",
            "1999999            H                        1          High  \n",
            "\n",
            "[2000000 rows x 16 columns]\n"
          ]
        }
      ]
    },
    {
      "cell_type": "code",
      "source": [
        "plt.figure(figsize=(12, 6))\n",
        "\n",
        "# Gráfico para 'income'\n",
        "plt.subplot(1, 2, 1)\n",
        "plt.hist(data['income'], bins=30, alpha=0.5, label='Real', color='blue')\n",
        "plt.hist(syntheticData['income'], bins=30, alpha=0.5, label='Sintético', color='orange')\n",
        "plt.title('Distribución de Income')\n",
        "plt.xlabel('Income')\n",
        "plt.ylabel('Frecuencia')\n",
        "plt.legend()\n",
        "\n",
        "# Gráfico para 'credit_risk_score'\n",
        "plt.subplot(1, 2, 2)\n",
        "plt.hist(data['credit_risk_score'], bins=30, alpha=0.5, label='Real', color='blue')\n",
        "plt.hist(syntheticData['credit_risk_score'], bins=30, alpha=0.5, label='Sintético', color='orange')\n",
        "plt.title('Distribución de Credit Risk Score')\n",
        "plt.xlabel('Credit Risk Score')\n",
        "plt.ylabel('Frecuencia')\n",
        "plt.legend()\n",
        "\n",
        "# Mostrar gráficos\n",
        "plt.tight_layout()\n",
        "plt.show()"
      ],
      "metadata": {
        "colab": {
          "base_uri": "https://localhost:8080/",
          "height": 607
        },
        "id": "qZO89xU2ug3W",
        "outputId": "e133651f-f109-48b7-f606-edc3e520bd09"
      },
      "execution_count": 70,
      "outputs": [
        {
          "output_type": "display_data",
          "data": {
            "text/plain": [
              "<Figure size 1200x600 with 2 Axes>"
            ],
            "image/png": "[encoded data removed]"
          },
          "metadata": {}
        }
      ]
    },
    {
      "cell_type": "code",
      "source": [
        "def convert_labels_to_binary(labels, uniquelabel):\n",
        "    binary_labels = np.where(labels == uniquelabel, 1, 0)\n",
        "    return binary_labels"
      ],
      "metadata": {
        "id": "cNLm2ZMX_WUM"
      },
      "execution_count": 71,
      "outputs": []
    },
    {
      "cell_type": "code",
      "source": [
        "category_mapping = {\n",
        "    'L': 1.0,\n",
        "    'M': 2.0,\n",
        "    'H': 3.0\n",
        "}\n",
        "\n",
        "\n",
        "def map_category(value):\n",
        "    return category_mapping.get(value, np.nan)\n",
        "X.iloc[:, 13] = X.iloc[:, 13].apply(map_category)\n",
        "print(X.iloc[:5, :])"
      ],
      "metadata": {
        "colab": {
          "base_uri": "https://localhost:8080/"
        },
        "id": "B-Et8MAJGGm3",
        "outputId": "df098378-9366-48d1-8dcb-fc825330db63"
      },
      "execution_count": 72,
      "outputs": [
        {
          "output_type": "stream",
          "name": "stdout",
          "text": [
            "         income  name_email_similarity  prev_address_months_count  \\\n",
            "0  3.000000e+00           9.865060e+14                       -1.0   \n",
            "1  8.000000e+00           6.174260e+15                       -1.0   \n",
            "2  8.000000e+00           9.967070e+15                        9.0   \n",
            "3  6.000000e+15           4.751000e+15                       11.0   \n",
            "4  9.000000e+00           8.423070e+15                       -1.0   \n",
            "\n",
            "   current_address_months_count  customer_age  intended_balcon_amount  \\\n",
            "0                          25.0          40.0            1.024540e+16   \n",
            "1                          89.0          20.0           -8.495510e+15   \n",
            "2                          14.0          40.0           -1.490390e+16   \n",
            "3                          14.0          30.0           -1.863100e+16   \n",
            "4                          29.0          40.0            4.715250e+16   \n",
            "\n",
            "   zip_count_4w   velocity_6h  velocity_24h   velocity_4w  credit_risk_score  \\\n",
            "0        1059.0  1.309600e+16  7.850960e+15  6.742080e+15              163.0   \n",
            "1        1658.0  9.223280e+15  5.745250e+15  5.941660e+16              154.0   \n",
            "2        1095.0  4.471470e+15  5.471990e+15  5.992560e+15               89.0   \n",
            "3        3483.0  1.443200e+16  6.755340e+14  5.970340e+15               90.0   \n",
            "4        2339.0  7.601510e+15  5.124050e+15  5.940730e+15               91.0   \n",
            "\n",
            "   bank_months_count  proposed_credit_limit income_level  \\\n",
            "0                9.0                15000.0          2.0   \n",
            "1                2.0                15000.0          3.0   \n",
            "2               30.0                 2000.0          3.0   \n",
            "3                1.0                 2000.0          3.0   \n",
            "4               26.0                 2000.0          3.0   \n",
            "\n",
            "   has_long_stable_address risk_category  \n",
            "0                        0          High  \n",
            "1                        1          High  \n",
            "2                        0        Medium  \n",
            "3                        0        Medium  \n",
            "4                        0        Medium  \n"
          ]
        }
      ]
    },
    {
      "cell_type": "code",
      "source": [
        "category_mapping = {\n",
        "    'Low': 1.0,\n",
        "    'Medium': 2.0,\n",
        "    'High': 3.0,\n",
        "    'Very High': 4.0\n",
        "}\n",
        "\n",
        "# Función para convertir los strings a valores flotantes usando el diccionario\n",
        "def map_category2(value):\n",
        "    return category_mapping.get(value, np.nan)\n",
        "\n",
        "# Aplicar el mapeo solo a la columna de strings (índice 15, que es la columna 16)\n",
        "X.iloc[:, -1] = X.iloc[:, -1].apply(map_category2)\n",
        "# Convertir toda la matriz a tipo float\n",
        "#X = X.astype(float)\n",
        "\n",
        "# Verificar que la conversión fue exitosa\n",
        "print(X.iloc[:5, :])  # Mostrar las primeras 5 filas"
      ],
      "metadata": {
        "colab": {
          "base_uri": "https://localhost:8080/"
        },
        "outputId": "722e3d64-d3da-472e-d744-2935739afdbd",
        "id": "VgBmq4jZde5T"
      },
      "execution_count": 73,
      "outputs": [
        {
          "output_type": "stream",
          "name": "stdout",
          "text": [
            "         income  name_email_similarity  prev_address_months_count  \\\n",
            "0  3.000000e+00           9.865060e+14                       -1.0   \n",
            "1  8.000000e+00           6.174260e+15                       -1.0   \n",
            "2  8.000000e+00           9.967070e+15                        9.0   \n",
            "3  6.000000e+15           4.751000e+15                       11.0   \n",
            "4  9.000000e+00           8.423070e+15                       -1.0   \n",
            "\n",
            "   current_address_months_count  customer_age  intended_balcon_amount  \\\n",
            "0                          25.0          40.0            1.024540e+16   \n",
            "1                          89.0          20.0           -8.495510e+15   \n",
            "2                          14.0          40.0           -1.490390e+16   \n",
            "3                          14.0          30.0           -1.863100e+16   \n",
            "4                          29.0          40.0            4.715250e+16   \n",
            "\n",
            "   zip_count_4w   velocity_6h  velocity_24h   velocity_4w  credit_risk_score  \\\n",
            "0        1059.0  1.309600e+16  7.850960e+15  6.742080e+15              163.0   \n",
            "1        1658.0  9.223280e+15  5.745250e+15  5.941660e+16              154.0   \n",
            "2        1095.0  4.471470e+15  5.471990e+15  5.992560e+15               89.0   \n",
            "3        3483.0  1.443200e+16  6.755340e+14  5.970340e+15               90.0   \n",
            "4        2339.0  7.601510e+15  5.124050e+15  5.940730e+15               91.0   \n",
            "\n",
            "   bank_months_count  proposed_credit_limit income_level  \\\n",
            "0                9.0                15000.0          2.0   \n",
            "1                2.0                15000.0          3.0   \n",
            "2               30.0                 2000.0          3.0   \n",
            "3                1.0                 2000.0          3.0   \n",
            "4               26.0                 2000.0          3.0   \n",
            "\n",
            "   has_long_stable_address risk_category  \n",
            "0                        0           3.0  \n",
            "1                        1           3.0  \n",
            "2                        0           2.0  \n",
            "3                        0           2.0  \n",
            "4                        0           2.0  \n"
          ]
        }
      ]
    },
    {
      "cell_type": "code",
      "source": [
        "X = X.drop(columns=['risk_category'])"
      ],
      "metadata": {
        "id": "zTeBx-bAcQ8F"
      },
      "execution_count": null,
      "outputs": []
    },
    {
      "cell_type": "code",
      "execution_count": 74,
      "metadata": {
        "id": "7u9Fd9k5gLL0"
      },
      "outputs": [],
      "source": [
        "def  featureNormalize(X):\n",
        "    X = np.asarray(X, dtype=np.float64)\n",
        "    X_norm = X.copy() # Use the input X to create a copy\n",
        "    mu = np.zeros(X.shape[1]) # Use the input X dimensions\n",
        "    sigma = np.zeros(X.shape[1]) # Use the input X dimensions\n",
        "\n",
        "    mu = np.mean(X, axis = 0) # Calculate the mean of the input X\n",
        "    sigma = np.std(X, axis = 0) # Calculate the standard deviation of the input X\n",
        "    X_norm = (X - mu) / sigma # Normalize the input X\n",
        "\n",
        "    return X_norm, mu, sigma"
      ]
    },
    {
      "cell_type": "code",
      "execution_count": 75,
      "metadata": {
        "id": "ELtMkiYDJVNi"
      },
      "outputs": [],
      "source": [
        "# Configurar la matriz adecuadamente, y agregar una columna de unos que corresponde al termino de intercepción.\n",
        "m, n = X.shape\n",
        "# Agraga el termino de intercepción a A\n",
        "X_norm, mu, sigma = featureNormalize(X)\n",
        "X = X_norm\n",
        "X_onevsall = X.copy()\n",
        "X = np.concatenate([np.ones((m, 1)), X], axis=1)"
      ]
    },
    {
      "cell_type": "code",
      "source": [
        "print(X)\n",
        "\n",
        "indices = np.arange(X.shape[0])\n",
        "np.random.shuffle(indices)\n",
        "\n",
        "split_index = int(0.8 * X.shape[0])\n",
        "train_indices = indices[:split_index]\n",
        "test_indices = indices[split_index:]\n",
        "\n",
        "\n",
        "X_train = X[train_indices]\n",
        "X_test = X[test_indices]\n",
        "X_onevsall_train = X_onevsall[train_indices]\n",
        "X_onevsall_test = X_onevsall[test_indices]\n",
        "Y_train = y[train_indices]\n",
        "Y_test = y[test_indices]\n",
        "print(\"Training set shape:\", X_train.shape)\n",
        "print(\"Test set shape:\", X_test.shape)\n",
        "print(\"Training set shape:\", Y_train.shape)\n",
        "print(\"Test set shape:\", Y_test.shape)\n",
        "\n",
        "y_label0 = y.copy()\n",
        "y_label0 = convert_labels_to_binary(y_label0, 0)\n",
        "y_label1 = y.copy()\n",
        "y_label1 = convert_labels_to_binary(y_label1, 1)\n",
        "y_label2 = y.copy()\n",
        "y_label2 = convert_labels_to_binary(y_label2, 2)\n",
        "y_label3 = y.copy()\n",
        "y_label3 = convert_labels_to_binary(y_label3, 3)\n",
        "\n",
        "\n",
        "y_label0_train = y_label0[train_indices]\n",
        "y_label0_test = y_label0[test_indices]\n",
        "y_label1_train = y_label1[train_indices]\n",
        "y_label1_test = y_label1[test_indices]\n",
        "y_label2_train = y_label2[train_indices]\n",
        "y_label2_test = y_label2[test_indices]\n",
        "y_label3_train = y_label3[train_indices]\n",
        "y_label3_test = y_label3[test_indices]"
      ],
      "metadata": {
        "colab": {
          "base_uri": "https://localhost:8080/"
        },
        "id": "9CXh4NUx3LLv",
        "outputId": "fce8a887-75ef-40b8-9a4d-74894563c00c"
      },
      "execution_count": 76,
      "outputs": [
        {
          "output_type": "stream",
          "name": "stdout",
          "text": [
            "[[ 1.         -0.52453033 -1.17873709 ... -0.41188342 -1.17174963\n",
            "   0.44996782]\n",
            " [ 1.         -0.52453033  0.53161891 ...  0.77888901  0.85342464\n",
            "   0.44996782]\n",
            " [ 1.         -0.52453033  1.78207438 ...  0.77888901 -1.17174963\n",
            "  -0.44387272]\n",
            " ...\n",
            " [ 1.         -0.52453033  1.19590377 ... -0.41188342  0.85342464\n",
            "   1.34380835]\n",
            " [ 1.         -0.52453033  0.02181858 ... -0.41188342 -1.17174963\n",
            "  -0.44387272]\n",
            " [ 1.         -0.52453033 -0.49565622 ...  0.77888901  0.85342464\n",
            "   0.44996782]]\n",
            "Training set shape: (1600000, 17)\n",
            "Test set shape: (400000, 17)\n",
            "Training set shape: (1600000,)\n",
            "Test set shape: (400000,)\n"
          ]
        }
      ]
    },
    {
      "cell_type": "code",
      "source": [
        "print(y_label0)\n",
        "print(y_label1)\n",
        "print(y_label2)\n",
        "print(y_label3)"
      ],
      "metadata": {
        "colab": {
          "base_uri": "https://localhost:8080/"
        },
        "id": "gTEuoPb79Pi0",
        "outputId": "c64d886b-e843-4cfa-dd74-d0f2354c17b0"
      },
      "execution_count": 77,
      "outputs": [
        {
          "output_type": "stream",
          "name": "stdout",
          "text": [
            "[0 0 1 ... 0 0 1]\n",
            "[1 0 0 ... 0 0 0]\n",
            "[0 0 0 ... 1 0 0]\n",
            "[0 0 0 ... 0 0 0]\n"
          ]
        }
      ]
    },
    {
      "cell_type": "code",
      "execution_count": 78,
      "metadata": {
        "id": "pk9dV23xJVNh"
      },
      "outputs": [],
      "source": [
        "def sigmoid(z):\n",
        "    # Calcula la sigmoide de una entrada z\n",
        "    # convierte la intrada a un arreglo numpy\n",
        "    z = np.array(z)\n",
        "\n",
        "    g = np.zeros(z.shape)\n",
        "\n",
        "    g = 1 / (1 + np.exp(-z))\n",
        "\n",
        "    return g"
      ]
    },
    {
      "cell_type": "code",
      "execution_count": 79,
      "metadata": {
        "id": "iqDZRIgjJVNi"
      },
      "outputs": [],
      "source": [
        "def calcularCosto(theta, X, y):\n",
        "    # Inicializar algunos valores utiles\n",
        "    m = y.size  # numero de ejemplos de entrenamiento\n",
        "\n",
        "    J = 0\n",
        "    h = sigmoid(X.dot(theta.T))\n",
        "    J = (1 / m) * np.sum(-y.dot(np.log(h)) - (1 - y).dot(np.log(1 - h)))\n",
        "    #print(J)\n",
        "    return J"
      ]
    },
    {
      "cell_type": "code",
      "execution_count": 80,
      "metadata": {
        "id": "7G4SjTrwJVNi"
      },
      "outputs": [],
      "source": [
        "def descensoGradiente(theta, X, y, alpha, num_iters):\n",
        "    # Inicializa algunos valores\n",
        "    m = y.shape[0] # numero de ejemplos de entrenamiento\n",
        "\n",
        "    # realiza una copia de theta, el cual será acutalizada por el descenso por el gradiente\n",
        "    theta = theta.copy()\n",
        "    J_history = []\n",
        "    X = np.array(X)\n",
        "    X = X.astype(float)\n",
        "    for i in range(num_iters):\n",
        "        h = sigmoid(X.dot(theta.T))\n",
        "        theta = theta - (alpha / m) * (h - y).dot(X)\n",
        "\n",
        "        J_history.append(calcularCosto(theta, X, y))\n",
        "    return theta, J_history"
      ]
    },
    {
      "cell_type": "code",
      "execution_count": 20,
      "metadata": {
        "scrolled": true,
        "colab": {
          "base_uri": "https://localhost:8080/",
          "height": 501
        },
        "id": "rBUlehg6JVNi",
        "outputId": "aedd7213-1850-4179-fb1d-528a62c2cb82"
      },
      "outputs": [
        {
          "output_type": "stream",
          "name": "stdout",
          "text": [
            "theta calculado por el descenso por el gradiente: [-0.80598454 -0.00178649 -0.027008   -0.04122685 -0.01428755  0.05594497\n",
            " -0.32925367 -0.01853751 -0.00166773  0.0077321   0.0010811   0.03708422\n",
            "  0.20257721  0.01941647 -0.01693715  0.01008117  0.02783681]\n"
          ]
        },
        {
          "output_type": "display_data",
          "data": {
            "text/plain": [
              "<Figure size 640x480 with 1 Axes>"
            ],
            "image/png": "[encoded data removed]"
          },
          "metadata": {}
        }
      ],
      "source": [
        "# Elegir algun valor para alpha (probar varias alternativas)\n",
        "alpha = 0.003\n",
        "num_iters = 3000\n",
        "\n",
        "# inicializa theta y ejecuta el descenso por el gradiente\n",
        "theta_label0 = np.zeros(17)\n",
        "theta_label0, J_history = descensoGradiente(theta_0, X_train, y_label0_train, alpha, num_iters)\n",
        "\n",
        "# Grafica la convergencia del costo\n",
        "pyplot.plot(np.arange(len(J_history)), J_history, lw=2)\n",
        "pyplot.xlabel('Numero de iteraciones')\n",
        "pyplot.ylabel('Costo J')\n",
        "\n",
        "# Muestra los resultados del descenso por el gradiente\n",
        "print('theta calculado por el descenso por el gradiente: {:s}'.format(str(theta_label0)))\n",
        "\n",
        "\n",
        "#print('Un estudiante con nota del examen 1: 80 y nota del examen 2: 46 (usando el descenso por el gradiente):{:.0f}'.format(aprueba))"
      ]
    },
    {
      "cell_type": "code",
      "execution_count": 21,
      "metadata": {
        "id": "v1wukrcCFAl5"
      },
      "outputs": [],
      "source": [
        "def predict(theta, X_test):\n",
        "    #devuelve el tamaño del primer eje de la matriz\n",
        "    m = X_test.shape[0] # Numero de ejemplo de entrenamiento\n",
        "    #Esta línea inicializa un vector p de tamaño m con ceros\n",
        "    p = np.zeros(m)\n",
        "    #Esta línea realiza las predicciones utilizando la función sigmoide y el producto punto entre X_test y theta.T\n",
        "    p = np.round(sigmoid(X_test.dot(theta.T)))\n",
        "    return p"
      ]
    },
    {
      "cell_type": "code",
      "source": [
        "p0 = predict(theta_label0, X_test)\n",
        "\n",
        "print('Precisión de entrenamiento: {:.2f} %'.format(np.mean(p == y_label0_test) * 100))"
      ],
      "metadata": {
        "colab": {
          "base_uri": "https://localhost:8080/"
        },
        "id": "KqIC87ZCGHhj",
        "outputId": "4ee60e28-c20f-4076-c137-89cf8cf0c098"
      },
      "execution_count": 22,
      "outputs": [
        {
          "output_type": "stream",
          "name": "stdout",
          "text": [
            "Precisión de entrenamiento: 71.38 %\n"
          ]
        }
      ]
    },
    {
      "cell_type": "code",
      "source": [
        "theta_label1 = np.zeros(17)\n",
        "theta_label1, J_history = descensoGradiente(theta_label1, X_train, y_label1_train, alpha, num_iters)\n",
        "\n",
        "# Grafica la convergencia del costo\n",
        "pyplot.plot(np.arange(len(J_history)), J_history, lw=2)\n",
        "pyplot.xlabel('Numero de iteraciones')\n",
        "pyplot.ylabel('Costo J')\n",
        "\n",
        "# Muestra los resultados del descenso por el gradiente\n",
        "print('theta calculado por el descenso por el gradiente: {:s}'.format(str(theta_label1)))\n",
        "p1 = predict(theta_label1, X_test)\n",
        "\n",
        "print('Precisión de entrenamiento: {:.2f} %'.format(np.mean(p1 == y_label1_test) * 100))"
      ],
      "metadata": {
        "colab": {
          "base_uri": "https://localhost:8080/",
          "height": 554
        },
        "id": "v-GnVrUFIQrk",
        "outputId": "dc06ea27-d333-4cb9-9144-28beccc8bb9a"
      },
      "execution_count": 23,
      "outputs": [
        {
          "output_type": "stream",
          "name": "stdout",
          "text": [
            "theta calculado por el descenso por el gradiente: [-1.04229992e+00  3.50106342e-03  1.42734360e-02 -2.28330448e-03\n",
            "  3.28313568e-02 -2.16605291e-02  5.76364105e-01  8.89947248e-03\n",
            " -7.59026973e-04 -3.89113810e-03 -3.31407503e-03 -3.94092301e-02\n",
            "  1.83270678e-01  1.49549152e-04  3.28079412e-02  1.86473830e-02\n",
            " -2.16342706e-02]\n",
            "Precisión de entrenamiento: 78.29 %\n"
          ]
        },
        {
          "output_type": "display_data",
          "data": {
            "text/plain": [
              "<Figure size 640x480 with 1 Axes>"
            ],
            "image/png": "[encoded data removed]"
          },
          "metadata": {}
        }
      ]
    },
    {
      "cell_type": "code",
      "source": [
        "theta_label2 = np.zeros(17)\n",
        "theta_label2, J_history = descensoGradiente(theta_label2, X_train, y_label2_train, alpha, num_iters)\n",
        "\n",
        "# Grafica la convergencia del costo\n",
        "pyplot.plot(np.arange(len(J_history)), J_history, lw=2)\n",
        "pyplot.xlabel('Numero de iteraciones')\n",
        "pyplot.ylabel('Costo J')\n",
        "\n",
        "# Muestra los resultados del descenso por el gradiente\n",
        "print('theta calculado por el descenso por el gradiente: {:s}'.format(str(theta_label2)))\n",
        "p1 = predict(theta_label2, X_test)\n",
        "\n",
        "print('Precisión de entrenamiento: {:.2f} %'.format(np.mean(p1 == y_label2_test) * 100))"
      ],
      "metadata": {
        "colab": {
          "base_uri": "https://localhost:8080/",
          "height": 554
        },
        "outputId": "a1e4e14e-6505-43db-c803-5033303d86dc",
        "id": "3O48EZzwMtfD"
      },
      "execution_count": 24,
      "outputs": [
        {
          "output_type": "stream",
          "name": "stdout",
          "text": [
            "theta calculado por el descenso por el gradiente: [-1.05923931e+00  6.84619533e-04  9.73401378e-03  3.91763402e-02\n",
            " -3.11024101e-02 -6.71680751e-03 -2.06218924e-01 -1.63812514e-02\n",
            "  1.73707751e-03 -5.82436124e-03 -3.19621854e-03  4.46946480e-03\n",
            " -4.64859466e-01 -3.29746184e-02 -2.84568161e-02  2.05753910e-02\n",
            " -6.49209575e-04]\n",
            "Precisión de entrenamiento: 77.46 %\n"
          ]
        },
        {
          "output_type": "display_data",
          "data": {
            "text/plain": [
              "<Figure size 640x480 with 1 Axes>"
            ],
            "image/png": "[encoded data removed]"
          },
          "metadata": {}
        }
      ]
    },
    {
      "cell_type": "code",
      "source": [
        "def lrCostFunction(theta, X, y, lambda_):\n",
        "    m = y.size\n",
        "\n",
        "    if y.dtype == bool:\n",
        "        y = y.astype(int)\n",
        "\n",
        "    J = 0\n",
        "    grad = np.zeros(theta.shape)\n",
        "\n",
        "    h = sigmoid(X.dot(theta.T))\n",
        "\n",
        "    temp = theta\n",
        "    temp[0] = 0\n",
        "\n",
        "    J = (1 / m) * np.sum(-y.dot(np.log(h)) - (1 - y).dot(np.log(1 - h))) + (lambda_ / (2 * m)) * np.sum(np.square(temp))\n",
        "\n",
        "    grad = (1 / m) * (h - y).dot(X)\n",
        "\n",
        "    grad = grad + (lambda_ / m) * temp\n",
        "    #print(J)\n",
        "    return J, grad\n"
      ],
      "metadata": {
        "id": "J7g6r9W16ozS"
      },
      "execution_count": 89,
      "outputs": []
    },
    {
      "cell_type": "code",
      "source": [
        "def gradientDescent(X, y, theta, lambda_, alpha=0.1, num_iters=100):\n",
        "    m = len(y)\n",
        "    costs = []\n",
        "\n",
        "    for i in range(num_iters):\n",
        "        J, grad = lrCostFunction(theta, X, y, lambda_)\n",
        "        theta = theta - alpha * grad\n",
        "        costs.append(J)\n",
        "        print(f\"Iteración {i+1}, Costo: {J}\")\n",
        "\n",
        "    return theta, costs\n",
        "\n",
        "def oneVsAll(X, y, num_labels, lambda_, alpha=0.1, num_iters=100):\n",
        "    m, n = X.shape\n",
        "    all_theta = np.zeros((num_labels, n + 1))\n",
        "    X = np.concatenate([np.ones((m, 1)), X], axis=1)\n",
        "    all_costs = []\n",
        "\n",
        "    for c in np.arange(num_labels):\n",
        "        initial_theta = np.zeros(n + 1)\n",
        "        y_binary = (y == c).astype(int)\n",
        "        theta, costs = gradientDescent(X, y_binary, initial_theta, lambda_, alpha, num_iters)\n",
        "        all_theta[c] = theta\n",
        "        all_costs.append(costs)\n",
        "\n",
        "    return all_theta, all_costs"
      ],
      "metadata": {
        "id": "ynFxl1QrZ6zG"
      },
      "execution_count": 90,
      "outputs": []
    },
    {
      "cell_type": "code",
      "execution_count": 88,
      "metadata": {
        "id": "w6JbsLLMSxgO",
        "outputId": "42b9dc71-0cb1-4149-cef2-7d11dd434f97",
        "colab": {
          "base_uri": "https://localhost:8080/",
          "height": 732
        }
      },
      "outputs": [
        {
          "output_type": "stream",
          "name": "stdout",
          "text": [
            "(1600000, 16)\n",
            "(1600000,)\n",
            "[[-0.52453033 -1.01813667  0.82164128 ...  0.77888901  0.85342464\n",
            "   1.34380835]\n",
            " [-0.52453033 -1.36608303 -0.40174962 ... -0.41188342  0.85342464\n",
            "   1.34380835]\n",
            " [-0.52453033  0.65254959 -0.40174962 ... -1.60265586 -1.17174963\n",
            "  -0.44387272]\n",
            " ...\n",
            " [-0.52453033 -1.25006508 -0.40174962 ... -1.60265586 -1.17174963\n",
            "  -0.44387272]\n",
            " [-0.52453033 -1.27859233 -0.4037448  ...  0.77888901  0.85342464\n",
            "   0.44996782]\n",
            " [-0.52453033 -1.43179542 -0.40227695 ... -0.41188342 -1.17174963\n",
            "  -1.33771325]]\n"
          ]
        },
        {
          "output_type": "display_data",
          "data": {
            "text/plain": [
              "<Figure size 640x480 with 1 Axes>"
            ],
            "image/png": "[encoded data removed]"
          },
          "metadata": {}
        }
      ],
      "source": [
        "lambda_ = 0.1\n",
        "num_labels = 5\n",
        "print(X_onevsall_train.shape)\n",
        "print(Y_train.shape)\n",
        "\n",
        "print(X_onevsall_train)\n",
        "all_theta, costs = oneVsAll(X_onevsall_train, Y_train, num_labels, lambda_)\n",
        "plt.plot(costs)\n",
        "plt.xlabel('Iteración')\n",
        "plt.ylabel('Costo')\n",
        "plt.title('Costo por iteración para cada clase')\n",
        "plt.show()"
      ]
    },
    {
      "cell_type": "code",
      "execution_count": 86,
      "metadata": {
        "id": "PjFoFe1bSxgO"
      },
      "outputs": [],
      "source": [
        "def predictOneVsAll(all_theta, X):\n",
        "\n",
        "    m = X.shape[0];\n",
        "    num_labels = all_theta.shape[0]\n",
        "\n",
        "    p = np.zeros(m)\n",
        "\n",
        "    X = np.concatenate([np.ones((m, 1)), X], axis=1)\n",
        "    p = np.argmax(sigmoid(X.dot(all_theta.T)), axis = 1)\n",
        "    return p"
      ]
    },
    {
      "cell_type": "code",
      "source": [
        "pred = predictOneVsAll(all_theta, X_onevsall_test)\n",
        "print('Precision del conjuto de entrenamiento: {:.2f}%'.format(np.mean(pred == Y_test) * 100))"
      ],
      "metadata": {
        "colab": {
          "base_uri": "https://localhost:8080/"
        },
        "id": "GnF-NUxmSud4",
        "outputId": "2418ff6c-7c4d-4f25-aa57-505b3878bb99"
      },
      "execution_count": 87,
      "outputs": [
        {
          "output_type": "stream",
          "name": "stdout",
          "text": [
            "Precision del conjuto de entrenamiento: 43.89%\n"
          ]
        }
      ]
    }
  ]
}