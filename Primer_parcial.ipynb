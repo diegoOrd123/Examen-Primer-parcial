{
  "nbformat": 4,
  "nbformat_minor": 0,
  "metadata": {
    "colab": {
      "provenance": [],
      "authorship_tag": "ABX9TyNA8lY8y6qcTItND6/MpgVJ",
      "include_colab_link": true
    },
    "kernelspec": {
      "name": "python3",
      "display_name": "Python 3"
    },
    "language_info": {
      "name": "python"
    }
  },
  "cells": [
    {
      "cell_type": "markdown",
      "metadata": {
        "id": "view-in-github",
        "colab_type": "text"
      },
      "source": [
        "<a href=\"https://colab.research.google.com/github/diegoOrd123/Examen-Primer-parcial/blob/main/Primer_parcial.ipynb\" target=\"_parent\"><img src=\"https://colab.research.google.com/assets/colab-badge.svg\" alt=\"Open In Colab\"/></a>"
      ]
    },
    {
      "cell_type": "code",
      "execution_count": 2,
      "metadata": {
        "colab": {
          "base_uri": "https://localhost:8080/"
        },
        "id": "jVbwIyZXBxy-",
        "outputId": "c5604fbf-77f7-489a-91a4-c63e6900f2ef"
      },
      "outputs": [
        {
          "output_type": "stream",
          "name": "stdout",
          "text": [
            "Mounted at /content/drive\n"
          ]
        }
      ],
      "source": [
        "from google.colab import drive\n",
        "drive.mount('/content/drive')"
      ]
    },
    {
      "cell_type": "markdown",
      "source": [
        "Importamos las librerias necesarias"
      ],
      "metadata": {
        "id": "cTVm2zBlFW9J"
      }
    },
    {
      "cell_type": "code",
      "source": [
        "import os\n",
        "import numpy as np\n",
        "import pandas as pd\n",
        "from matplotlib import pyplot"
      ],
      "metadata": {
        "id": "RmqiEbZNFUWB"
      },
      "execution_count": 3,
      "outputs": []
    },
    {
      "cell_type": "code",
      "source": [
        "input_layer_size  = 14\n",
        "num_labels = 5\n",
        "data = pd.read_csv('/content/drive/MyDrive/Dataset/Base.csv', delimiter=';')\n",
        "print(data.shape)\n",
        "\n",
        "data.info()"
      ],
      "metadata": {
        "colab": {
          "base_uri": "https://localhost:8080/"
        },
        "id": "AtF0PlnRFzRf",
        "outputId": "fdee96ea-ac04-4cb8-e1de-a55b0621bc26"
      },
      "execution_count": 5,
      "outputs": [
        {
          "output_type": "stream",
          "name": "stdout",
          "text": [
            "(1000000, 14)\n",
            "<class 'pandas.core.frame.DataFrame'>\n",
            "RangeIndex: 1000000 entries, 0 to 999999\n",
            "Data columns (total 14 columns):\n",
            " #   Column                        Non-Null Count    Dtype  \n",
            "---  ------                        --------------    -----  \n",
            " 0   income                        1000000 non-null  float64\n",
            " 1   name_email_similarity         1000000 non-null  float64\n",
            " 2   prev_address_months_count     1000000 non-null  int64  \n",
            " 3   current_address_months_count  1000000 non-null  int64  \n",
            " 4   customer_age                  1000000 non-null  int64  \n",
            " 5   intended_balcon_amount        1000000 non-null  float64\n",
            " 6   zip_count_4w                  1000000 non-null  int64  \n",
            " 7   velocity_6h                   1000000 non-null  float64\n",
            " 8   velocity_24h                  1000000 non-null  float64\n",
            " 9   velocity_4w                   1000000 non-null  float64\n",
            " 10  credit_risk_score             1000000 non-null  int64  \n",
            " 11  bank_months_count             1000000 non-null  int64  \n",
            " 12  proposed_credit_limit         1000000 non-null  int64  \n",
            " 13  payment_type                  1000000 non-null  object \n",
            "dtypes: float64(6), int64(7), object(1)\n",
            "memory usage: 106.8+ MB\n"
          ]
        }
      ]
    },
    {
      "cell_type": "code",
      "source": [
        "def generate_synthetic_data(num_samples):\n",
        "    data = {\n",
        "        'income': np.random.uniform(0.1, 0.9, num_samples),\n",
        "        'name_email_similarity': np.random.uniform(0, 1, num_samples),\n",
        "        'prev_address_months_count': np.random.randint(-1, 383, num_samples),\n",
        "        'current_address_months_count': np.random.randint(19, 428, num_samples),\n",
        "        'customer_age': np.random.randint(10, 90, num_samples),\n",
        "        'intended_balcon_amount': np.random.uniform(-15.5, 113, num_samples),\n",
        "        'zip_count_4w': np.random.randint(1, 6700, num_samples),\n",
        "        'velocity_6h': np.random.uniform(3440, 16700, num_samples),\n",
        "        'velocity_24h': np.random.uniform(1300, 9500, num_samples),\n",
        "        'velocity_4w': np.random.uniform(2830, 6990, num_samples),\n",
        "        'credit_risk_score': np.random.uniform(-170, 389, num_samples),\n",
        "        'bank_months_count': np.random.randint(-1, 32, num_samples),\n",
        "        'proposed_credit_limit': np.random.uniform(190, 2100, num_samples),\n",
        "        'payment_type': np.random.choice(['AB', 'AA', 'AC', 'AE', 'AD'], num_samples)\n",
        "    }\n",
        "    return pd.DataFrame(data)\n",
        "\n",
        "# Generar el DataFrame sintético\n",
        "syntheticData = generate_synthetic_data(1000000)\n",
        "combinedData = pd.concat([data, syntheticData], ignore_index=True)\n",
        "print(combinedData.shape)"
      ],
      "metadata": {
        "colab": {
          "base_uri": "https://localhost:8080/"
        },
        "id": "xBS8eJIwtYmg",
        "outputId": "8a1e6207-ef83-4a7a-b0ff-870a5b7ac313"
      },
      "execution_count": 18,
      "outputs": [
        {
          "output_type": "stream",
          "name": "stdout",
          "text": [
            "(2000000, 14)\n"
          ]
        }
      ]
    },
    {
      "cell_type": "code",
      "source": [
        "y = combinedData.iloc[:, -1]\n",
        "print(y)\n",
        "mapping = {'AB': 0, 'AA': 1, 'AC': 2, 'AE': 3, 'AD': 4}\n",
        "def convert_column_to_numeric(data, mapping):\n",
        "    vectorized_map = np.vectorize(mapping.get)\n",
        "    numeric_data = vectorized_map(data)\n",
        "    return numeric_data\n",
        "numeric_data = convert_column_to_numeric(y, mapping)\n",
        "y = numeric_data\n",
        "print(y)"
      ],
      "metadata": {
        "colab": {
          "base_uri": "https://localhost:8080/"
        },
        "id": "hD_4EprzLuRe",
        "outputId": "1b0e3d6a-aef8-410b-e323-588c710e9733"
      },
      "execution_count": 21,
      "outputs": [
        {
          "output_type": "stream",
          "name": "stdout",
          "text": [
            "0          AA\n",
            "1          AD\n",
            "2          AB\n",
            "3          AB\n",
            "4          AA\n",
            "           ..\n",
            "1999995    AE\n",
            "1999996    AD\n",
            "1999997    AE\n",
            "1999998    AB\n",
            "1999999    AE\n",
            "Name: payment_type, Length: 2000000, dtype: object\n",
            "[1 4 0 ... 3 0 3]\n"
          ]
        }
      ]
    },
    {
      "cell_type": "code",
      "source": [
        "X=combinedData.iloc[:,:-1]\n",
        "print(X.shape)\n",
        "def income_group(income):\n",
        "    if income < 3:\n",
        "        return 'Low'\n",
        "    elif 3 <= income < 7:\n",
        "        return 'Medium'\n",
        "    else:\n",
        "        return 'High'\n",
        "X['income_level'] = X['income'].apply(income_group)\n",
        "print(X.shape)\n",
        "print(X)"
      ],
      "metadata": {
        "colab": {
          "base_uri": "https://localhost:8080/"
        },
        "id": "N4JAvCoLOzm-",
        "outputId": "df7bede5-b586-4da4-eeef-e68d30d31bd4"
      },
      "execution_count": 22,
      "outputs": [
        {
          "output_type": "stream",
          "name": "stdout",
          "text": [
            "(2000000, 13)\n",
            "(2000000, 14)\n",
            "               income  name_email_similarity  prev_address_months_count  \\\n",
            "0        3.000000e+00           9.865060e+14                         -1   \n",
            "1        8.000000e+00           6.174260e+15                         -1   \n",
            "2        8.000000e+00           9.967070e+15                          9   \n",
            "3        6.000000e+15           4.751000e+15                         11   \n",
            "4        9.000000e+00           8.423070e+15                         -1   \n",
            "...               ...                    ...                        ...   \n",
            "1999995  3.041642e-01           5.783508e-01                        314   \n",
            "1999996  8.431517e-01           8.542243e-01                        342   \n",
            "1999997  5.854508e-01           2.380214e-01                        109   \n",
            "1999998  4.691686e-01           8.829129e-02                        107   \n",
            "1999999  7.925825e-01           4.561989e-01                        171   \n",
            "\n",
            "         current_address_months_count  customer_age  intended_balcon_amount  \\\n",
            "0                                  25            40            1.024540e+16   \n",
            "1                                  89            20           -8.495510e+15   \n",
            "2                                  14            40           -1.490390e+16   \n",
            "3                                  14            30           -1.863100e+16   \n",
            "4                                  29            40            4.715250e+16   \n",
            "...                               ...           ...                     ...   \n",
            "1999995                            27            63            1.046298e+02   \n",
            "1999996                           319            87            1.088531e+02   \n",
            "1999997                           356            61            4.866416e+01   \n",
            "1999998                           359            58            8.984976e+01   \n",
            "1999999                           340            84            4.683041e+01   \n",
            "\n",
            "         zip_count_4w   velocity_6h  velocity_24h   velocity_4w  \\\n",
            "0                1059  1.309600e+16  7.850960e+15  6.742080e+15   \n",
            "1                1658  9.223280e+15  5.745250e+15  5.941660e+16   \n",
            "2                1095  4.471470e+15  5.471990e+15  5.992560e+15   \n",
            "3                3483  1.443200e+16  6.755340e+14  5.970340e+15   \n",
            "4                2339  7.601510e+15  5.124050e+15  5.940730e+15   \n",
            "...               ...           ...           ...           ...   \n",
            "1999995          1082  1.211892e+04  2.776618e+03  3.202464e+03   \n",
            "1999996           616  5.327178e+03  7.758416e+03  4.929781e+03   \n",
            "1999997          5053  1.497018e+04  5.848546e+03  4.555128e+03   \n",
            "1999998          1818  1.444961e+04  7.735576e+03  6.414360e+03   \n",
            "1999999           473  5.495446e+03  7.348018e+03  4.702584e+03   \n",
            "\n",
            "         credit_risk_score  bank_months_count  proposed_credit_limit  \\\n",
            "0               163.000000                  9           15000.000000   \n",
            "1               154.000000                  2           15000.000000   \n",
            "2                89.000000                 30            2000.000000   \n",
            "3                90.000000                  1            2000.000000   \n",
            "4                91.000000                 26            2000.000000   \n",
            "...                    ...                ...                    ...   \n",
            "1999995         384.788408                  7            1902.630128   \n",
            "1999996         284.474489                 13            1248.412045   \n",
            "1999997          -5.954321                  8            1411.136484   \n",
            "1999998        -113.636173                  5             612.843058   \n",
            "1999999         157.135672                 21             899.045676   \n",
            "\n",
            "        income_level  \n",
            "0             Medium  \n",
            "1               High  \n",
            "2               High  \n",
            "3               High  \n",
            "4               High  \n",
            "...              ...  \n",
            "1999995          Low  \n",
            "1999996          Low  \n",
            "1999997          Low  \n",
            "1999998          Low  \n",
            "1999999          Low  \n",
            "\n",
            "[2000000 rows x 14 columns]\n"
          ]
        }
      ]
    },
    {
      "cell_type": "code",
      "source": [
        "X['has_long_stable_address'] = (\n",
        "    (X['prev_address_months_count'] >= 52) |\n",
        "    (X['current_address_months_count'] >= 52)\n",
        ").astype(int)\n",
        "print(X.shape)\n",
        "print(X)"
      ],
      "metadata": {
        "colab": {
          "base_uri": "https://localhost:8080/"
        },
        "id": "Hf06xVWJS5y0",
        "outputId": "75e8d875-f61e-42e1-92c7-ce28114e5d7a"
      },
      "execution_count": 23,
      "outputs": [
        {
          "output_type": "stream",
          "name": "stdout",
          "text": [
            "(2000000, 15)\n",
            "               income  name_email_similarity  prev_address_months_count  \\\n",
            "0        3.000000e+00           9.865060e+14                         -1   \n",
            "1        8.000000e+00           6.174260e+15                         -1   \n",
            "2        8.000000e+00           9.967070e+15                          9   \n",
            "3        6.000000e+15           4.751000e+15                         11   \n",
            "4        9.000000e+00           8.423070e+15                         -1   \n",
            "...               ...                    ...                        ...   \n",
            "1999995  3.041642e-01           5.783508e-01                        314   \n",
            "1999996  8.431517e-01           8.542243e-01                        342   \n",
            "1999997  5.854508e-01           2.380214e-01                        109   \n",
            "1999998  4.691686e-01           8.829129e-02                        107   \n",
            "1999999  7.925825e-01           4.561989e-01                        171   \n",
            "\n",
            "         current_address_months_count  customer_age  intended_balcon_amount  \\\n",
            "0                                  25            40            1.024540e+16   \n",
            "1                                  89            20           -8.495510e+15   \n",
            "2                                  14            40           -1.490390e+16   \n",
            "3                                  14            30           -1.863100e+16   \n",
            "4                                  29            40            4.715250e+16   \n",
            "...                               ...           ...                     ...   \n",
            "1999995                            27            63            1.046298e+02   \n",
            "1999996                           319            87            1.088531e+02   \n",
            "1999997                           356            61            4.866416e+01   \n",
            "1999998                           359            58            8.984976e+01   \n",
            "1999999                           340            84            4.683041e+01   \n",
            "\n",
            "         zip_count_4w   velocity_6h  velocity_24h   velocity_4w  \\\n",
            "0                1059  1.309600e+16  7.850960e+15  6.742080e+15   \n",
            "1                1658  9.223280e+15  5.745250e+15  5.941660e+16   \n",
            "2                1095  4.471470e+15  5.471990e+15  5.992560e+15   \n",
            "3                3483  1.443200e+16  6.755340e+14  5.970340e+15   \n",
            "4                2339  7.601510e+15  5.124050e+15  5.940730e+15   \n",
            "...               ...           ...           ...           ...   \n",
            "1999995          1082  1.211892e+04  2.776618e+03  3.202464e+03   \n",
            "1999996           616  5.327178e+03  7.758416e+03  4.929781e+03   \n",
            "1999997          5053  1.497018e+04  5.848546e+03  4.555128e+03   \n",
            "1999998          1818  1.444961e+04  7.735576e+03  6.414360e+03   \n",
            "1999999           473  5.495446e+03  7.348018e+03  4.702584e+03   \n",
            "\n",
            "         credit_risk_score  bank_months_count  proposed_credit_limit  \\\n",
            "0               163.000000                  9           15000.000000   \n",
            "1               154.000000                  2           15000.000000   \n",
            "2                89.000000                 30            2000.000000   \n",
            "3                90.000000                  1            2000.000000   \n",
            "4                91.000000                 26            2000.000000   \n",
            "...                    ...                ...                    ...   \n",
            "1999995         384.788408                  7            1902.630128   \n",
            "1999996         284.474489                 13            1248.412045   \n",
            "1999997          -5.954321                  8            1411.136484   \n",
            "1999998        -113.636173                  5             612.843058   \n",
            "1999999         157.135672                 21             899.045676   \n",
            "\n",
            "        income_level  has_long_stable_address  \n",
            "0             Medium                        0  \n",
            "1               High                        1  \n",
            "2               High                        0  \n",
            "3               High                        0  \n",
            "4               High                        0  \n",
            "...              ...                      ...  \n",
            "1999995          Low                        1  \n",
            "1999996          Low                        1  \n",
            "1999997          Low                        1  \n",
            "1999998          Low                        1  \n",
            "1999999          Low                        1  \n",
            "\n",
            "[2000000 rows x 15 columns]\n"
          ]
        }
      ]
    },
    {
      "cell_type": "code",
      "source": [
        "def risk_group(credit_risk_score):\n",
        "    if credit_risk_score <= 83:\n",
        "        return 'Low'\n",
        "    elif 83 < credit_risk_score <= 122:\n",
        "        return 'Medium'\n",
        "    elif 122 < credit_risk_score <= 178:\n",
        "        return 'High'\n",
        "    else:\n",
        "        return 'Very High'\n",
        "X['risk_category'] = X['credit_risk_score'].apply(risk_group)\n",
        "print(X.shape)\n",
        "print(X)"
      ],
      "metadata": {
        "colab": {
          "base_uri": "https://localhost:8080/"
        },
        "id": "8nxcuLcrVvaR",
        "outputId": "6203f917-cd4d-4300-df4b-15c39b0917be"
      },
      "execution_count": 24,
      "outputs": [
        {
          "output_type": "stream",
          "name": "stdout",
          "text": [
            "(2000000, 16)\n",
            "               income  name_email_similarity  prev_address_months_count  \\\n",
            "0        3.000000e+00           9.865060e+14                         -1   \n",
            "1        8.000000e+00           6.174260e+15                         -1   \n",
            "2        8.000000e+00           9.967070e+15                          9   \n",
            "3        6.000000e+15           4.751000e+15                         11   \n",
            "4        9.000000e+00           8.423070e+15                         -1   \n",
            "...               ...                    ...                        ...   \n",
            "1999995  3.041642e-01           5.783508e-01                        314   \n",
            "1999996  8.431517e-01           8.542243e-01                        342   \n",
            "1999997  5.854508e-01           2.380214e-01                        109   \n",
            "1999998  4.691686e-01           8.829129e-02                        107   \n",
            "1999999  7.925825e-01           4.561989e-01                        171   \n",
            "\n",
            "         current_address_months_count  customer_age  intended_balcon_amount  \\\n",
            "0                                  25            40            1.024540e+16   \n",
            "1                                  89            20           -8.495510e+15   \n",
            "2                                  14            40           -1.490390e+16   \n",
            "3                                  14            30           -1.863100e+16   \n",
            "4                                  29            40            4.715250e+16   \n",
            "...                               ...           ...                     ...   \n",
            "1999995                            27            63            1.046298e+02   \n",
            "1999996                           319            87            1.088531e+02   \n",
            "1999997                           356            61            4.866416e+01   \n",
            "1999998                           359            58            8.984976e+01   \n",
            "1999999                           340            84            4.683041e+01   \n",
            "\n",
            "         zip_count_4w   velocity_6h  velocity_24h   velocity_4w  \\\n",
            "0                1059  1.309600e+16  7.850960e+15  6.742080e+15   \n",
            "1                1658  9.223280e+15  5.745250e+15  5.941660e+16   \n",
            "2                1095  4.471470e+15  5.471990e+15  5.992560e+15   \n",
            "3                3483  1.443200e+16  6.755340e+14  5.970340e+15   \n",
            "4                2339  7.601510e+15  5.124050e+15  5.940730e+15   \n",
            "...               ...           ...           ...           ...   \n",
            "1999995          1082  1.211892e+04  2.776618e+03  3.202464e+03   \n",
            "1999996           616  5.327178e+03  7.758416e+03  4.929781e+03   \n",
            "1999997          5053  1.497018e+04  5.848546e+03  4.555128e+03   \n",
            "1999998          1818  1.444961e+04  7.735576e+03  6.414360e+03   \n",
            "1999999           473  5.495446e+03  7.348018e+03  4.702584e+03   \n",
            "\n",
            "         credit_risk_score  bank_months_count  proposed_credit_limit  \\\n",
            "0               163.000000                  9           15000.000000   \n",
            "1               154.000000                  2           15000.000000   \n",
            "2                89.000000                 30            2000.000000   \n",
            "3                90.000000                  1            2000.000000   \n",
            "4                91.000000                 26            2000.000000   \n",
            "...                    ...                ...                    ...   \n",
            "1999995         384.788408                  7            1902.630128   \n",
            "1999996         284.474489                 13            1248.412045   \n",
            "1999997          -5.954321                  8            1411.136484   \n",
            "1999998        -113.636173                  5             612.843058   \n",
            "1999999         157.135672                 21             899.045676   \n",
            "\n",
            "        income_level  has_long_stable_address risk_category  \n",
            "0             Medium                        0          High  \n",
            "1               High                        1          High  \n",
            "2               High                        0        Medium  \n",
            "3               High                        0        Medium  \n",
            "4               High                        0        Medium  \n",
            "...              ...                      ...           ...  \n",
            "1999995          Low                        1     Very High  \n",
            "1999996          Low                        1     Very High  \n",
            "1999997          Low                        1           Low  \n",
            "1999998          Low                        1           Low  \n",
            "1999999          Low                        1          High  \n",
            "\n",
            "[2000000 rows x 16 columns]\n"
          ]
        }
      ]
    },
    {
      "cell_type": "code",
      "source": [],
      "metadata": {
        "id": "qZO89xU2ug3W"
      },
      "execution_count": null,
      "outputs": []
    }
  ]
}