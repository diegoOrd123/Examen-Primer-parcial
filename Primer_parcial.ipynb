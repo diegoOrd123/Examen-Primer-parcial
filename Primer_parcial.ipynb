{
  "nbformat": 4,
  "nbformat_minor": 0,
  "metadata": {
    "colab": {
      "provenance": [],
      "authorship_tag": "ABX9TyNZxvK5O/vU7VWN0jPDDMEC",
      "include_colab_link": true
    },
    "kernelspec": {
      "name": "python3",
      "display_name": "Python 3"
    },
    "language_info": {
      "name": "python"
    }
  },
  "cells": [
    {
      "cell_type": "markdown",
      "metadata": {
        "id": "view-in-github",
        "colab_type": "text"
      },
      "source": [
        "<a href=\"https://colab.research.google.com/github/diegoOrd123/Examen-Primer-parcial/blob/main/Primer_parcial.ipynb\" target=\"_parent\"><img src=\"https://colab.research.google.com/assets/colab-badge.svg\" alt=\"Open In Colab\"/></a>"
      ]
    },
    {
      "cell_type": "code",
      "execution_count": 2,
      "metadata": {
        "colab": {
          "base_uri": "https://localhost:8080/"
        },
        "id": "jVbwIyZXBxy-",
        "outputId": "c5604fbf-77f7-489a-91a4-c63e6900f2ef"
      },
      "outputs": [
        {
          "output_type": "stream",
          "name": "stdout",
          "text": [
            "Mounted at /content/drive\n"
          ]
        }
      ],
      "source": [
        "from google.colab import drive\n",
        "drive.mount('/content/drive')"
      ]
    },
    {
      "cell_type": "markdown",
      "source": [
        "Importamos las librerias necesarias"
      ],
      "metadata": {
        "id": "cTVm2zBlFW9J"
      }
    },
    {
      "cell_type": "code",
      "source": [
        "import os\n",
        "import numpy as np\n",
        "import pandas as pd\n",
        "from matplotlib import pyplot"
      ],
      "metadata": {
        "id": "RmqiEbZNFUWB"
      },
      "execution_count": 3,
      "outputs": []
    },
    {
      "cell_type": "code",
      "source": [
        "input_layer_size  = 14\n",
        "num_labels = 5\n",
        "data = pd.read_csv('/content/drive/MyDrive/Dataset/Base.csv', delimiter=';')\n",
        "print(data.shape)\n",
        "\n",
        "data.info()"
      ],
      "metadata": {
        "colab": {
          "base_uri": "https://localhost:8080/"
        },
        "id": "AtF0PlnRFzRf",
        "outputId": "fdee96ea-ac04-4cb8-e1de-a55b0621bc26"
      },
      "execution_count": 5,
      "outputs": [
        {
          "output_type": "stream",
          "name": "stdout",
          "text": [
            "(1000000, 14)\n",
            "<class 'pandas.core.frame.DataFrame'>\n",
            "RangeIndex: 1000000 entries, 0 to 999999\n",
            "Data columns (total 14 columns):\n",
            " #   Column                        Non-Null Count    Dtype  \n",
            "---  ------                        --------------    -----  \n",
            " 0   income                        1000000 non-null  float64\n",
            " 1   name_email_similarity         1000000 non-null  float64\n",
            " 2   prev_address_months_count     1000000 non-null  int64  \n",
            " 3   current_address_months_count  1000000 non-null  int64  \n",
            " 4   customer_age                  1000000 non-null  int64  \n",
            " 5   intended_balcon_amount        1000000 non-null  float64\n",
            " 6   zip_count_4w                  1000000 non-null  int64  \n",
            " 7   velocity_6h                   1000000 non-null  float64\n",
            " 8   velocity_24h                  1000000 non-null  float64\n",
            " 9   velocity_4w                   1000000 non-null  float64\n",
            " 10  credit_risk_score             1000000 non-null  int64  \n",
            " 11  bank_months_count             1000000 non-null  int64  \n",
            " 12  proposed_credit_limit         1000000 non-null  int64  \n",
            " 13  payment_type                  1000000 non-null  object \n",
            "dtypes: float64(6), int64(7), object(1)\n",
            "memory usage: 106.8+ MB\n"
          ]
        }
      ]
    },
    {
      "cell_type": "code",
      "source": [
        "y = data.iloc[:, -1]\n",
        "print(y)\n",
        "mapping = {'AB': 0, 'AA': 1, 'AC': 2, 'AE': 3, 'AD': 4}\n",
        "def convert_column_to_numeric(data, mapping):\n",
        "    vectorized_map = np.vectorize(mapping.get)\n",
        "    numeric_data = vectorized_map(data)\n",
        "    return numeric_data\n",
        "numeric_data = convert_column_to_numeric(y, mapping)\n",
        "y = numeric_data\n",
        "print(y)"
      ],
      "metadata": {
        "colab": {
          "base_uri": "https://localhost:8080/"
        },
        "id": "hD_4EprzLuRe",
        "outputId": "d7f01457-43f7-4d49-9600-fdd367237f60"
      },
      "execution_count": 7,
      "outputs": [
        {
          "output_type": "stream",
          "name": "stdout",
          "text": [
            "0         AA\n",
            "1         AD\n",
            "2         AB\n",
            "3         AB\n",
            "4         AA\n",
            "          ..\n",
            "999995    AB\n",
            "999996    AC\n",
            "999997    AA\n",
            "999998    AB\n",
            "999999    AA\n",
            "Name: payment_type, Length: 1000000, dtype: object\n",
            "[1 4 0 ... 1 0 1]\n"
          ]
        }
      ]
    },
    {
      "cell_type": "code",
      "source": [
        "X=data.iloc[:,:-1]\n",
        "print(X.shape)\n",
        "def income_group(income):\n",
        "    if income < 3:\n",
        "        return 'Low'\n",
        "    elif 3 <= income < 7:\n",
        "        return 'Medium'\n",
        "    else:\n",
        "        return 'High'\n",
        "X['income_level'] = X['income'].apply(income_group)\n",
        "print(X.shape)\n",
        "print(X)"
      ],
      "metadata": {
        "colab": {
          "base_uri": "https://localhost:8080/"
        },
        "id": "N4JAvCoLOzm-",
        "outputId": "0f8367e8-3883-48a4-e6dd-da6b42eba236"
      },
      "execution_count": 11,
      "outputs": [
        {
          "output_type": "stream",
          "name": "stdout",
          "text": [
            "(1000000, 13)\n",
            "(1000000, 14)\n",
            "              income  name_email_similarity  prev_address_months_count  \\\n",
            "0       3.000000e+00           9.865060e+14                         -1   \n",
            "1       8.000000e+00           6.174260e+15                         -1   \n",
            "2       8.000000e+00           9.967070e+15                          9   \n",
            "3       6.000000e+15           4.751000e+15                         11   \n",
            "4       9.000000e+00           8.423070e+15                         -1   \n",
            "...              ...                    ...                        ...   \n",
            "999995  8.000000e+00           1.246900e+14                         -1   \n",
            "999996  9.000000e+00           8.245440e+15                         -1   \n",
            "999997  8.000000e+00           1.408910e+15                         -1   \n",
            "999998  9.000000e+00           2.480240e+13                         52   \n",
            "999999  6.000000e+15           9.933910e+15                         -1   \n",
            "\n",
            "        current_address_months_count  customer_age  intended_balcon_amount  \\\n",
            "0                                 25            40            1.024540e+16   \n",
            "1                                 89            20           -8.495510e+15   \n",
            "2                                 14            40           -1.490390e+16   \n",
            "3                                 14            30           -1.863100e+16   \n",
            "4                                 29            40            4.715250e+16   \n",
            "...                              ...           ...                     ...   \n",
            "999995                           143            30           -8.262390e+15   \n",
            "999996                           193            30            8.307060e+13   \n",
            "999997                           202            10            5.061000e+16   \n",
            "999998                             3            30           -1.313390e+16   \n",
            "999999                           174            30            1.494250e+15   \n",
            "\n",
            "        zip_count_4w   velocity_6h  velocity_24h   velocity_4w  \\\n",
            "0               1059  1.309600e+16  7.850960e+15  6.742080e+15   \n",
            "1               1658  9.223280e+15  5.745250e+15  5.941660e+16   \n",
            "2               1095  4.471470e+15  5.471990e+15  5.992560e+15   \n",
            "3               3483  1.443200e+16  6.755340e+14  5.970340e+15   \n",
            "4               2339  7.601510e+15  5.124050e+15  5.940730e+15   \n",
            "...              ...           ...           ...           ...   \n",
            "999995           530  6.732600e+15  3.010050e+16  3.095750e+16   \n",
            "999996           408  1.574290e+16  2.716500e+15  4.286090e+15   \n",
            "999997           749  1.258860e+15  3.601320e+16  3.103890e+14   \n",
            "999998           707  7.048140e+15  6.521400e+16  3.068270e+15   \n",
            "999999           655  3.737080e+16  3.135790e+15  3.051000e+15   \n",
            "\n",
            "        credit_risk_score  bank_months_count  proposed_credit_limit  \\\n",
            "0                     163                  9                  15000   \n",
            "1                     154                  2                  15000   \n",
            "2                      89                 30                   2000   \n",
            "3                      90                  1                   2000   \n",
            "4                      91                 26                   2000   \n",
            "...                   ...                ...                    ...   \n",
            "999995                305                 31                  15000   \n",
            "999996                235                 -1                  10000   \n",
            "999997                195                 31                   2000   \n",
            "999998                148                  1                   2000   \n",
            "999999                100                 15                   2000   \n",
            "\n",
            "       income_level  \n",
            "0            Medium  \n",
            "1              High  \n",
            "2              High  \n",
            "3              High  \n",
            "4              High  \n",
            "...             ...  \n",
            "999995         High  \n",
            "999996         High  \n",
            "999997         High  \n",
            "999998         High  \n",
            "999999         High  \n",
            "\n",
            "[1000000 rows x 14 columns]\n"
          ]
        }
      ]
    },
    {
      "cell_type": "code",
      "source": [],
      "metadata": {
        "id": "Hf06xVWJS5y0"
      },
      "execution_count": null,
      "outputs": []
    }
  ]
}