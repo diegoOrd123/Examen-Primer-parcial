{
  "nbformat": 4,
  "nbformat_minor": 0,
  "metadata": {
    "colab": {
      "provenance": [],
      "authorship_tag": "ABX9TyPaGZGMWHg0ar+mW2EepyPj",
      "include_colab_link": true
    },
    "kernelspec": {
      "name": "python3",
      "display_name": "Python 3"
    },
    "language_info": {
      "name": "python"
    }
  },
  "cells": [
    {
      "cell_type": "markdown",
      "metadata": {
        "id": "view-in-github",
        "colab_type": "text"
      },
      "source": [
        "<a href=\"https://colab.research.google.com/github/diegoOrd123/Examen-Primer-parcial/blob/main/Primer_parcial.ipynb\" target=\"_parent\"><img src=\"https://colab.research.google.com/assets/colab-badge.svg\" alt=\"Open In Colab\"/></a>"
      ]
    },
    {
      "cell_type": "code",
      "execution_count": 58,
      "metadata": {
        "colab": {
          "base_uri": "https://localhost:8080/"
        },
        "id": "jVbwIyZXBxy-",
        "outputId": "dd115f3a-1dd3-4d21-eae5-011861147232"
      },
      "outputs": [
        {
          "output_type": "stream",
          "name": "stdout",
          "text": [
            "Drive already mounted at /content/drive; to attempt to forcibly remount, call drive.mount(\"/content/drive\", force_remount=True).\n"
          ]
        }
      ],
      "source": [
        "from google.colab import drive\n",
        "drive.mount('/content/drive')"
      ]
    },
    {
      "cell_type": "markdown",
      "source": [
        "Importamos las librerias necesarias"
      ],
      "metadata": {
        "id": "cTVm2zBlFW9J"
      }
    },
    {
      "cell_type": "code",
      "source": [
        "import os\n",
        "import numpy as np\n",
        "import pandas as pd\n",
        "from matplotlib import pyplot\n",
        "import matplotlib.pyplot as plt"
      ],
      "metadata": {
        "id": "RmqiEbZNFUWB"
      },
      "execution_count": 59,
      "outputs": []
    },
    {
      "cell_type": "code",
      "source": [
        "input_layer_size  = 14\n",
        "num_labels = 5\n",
        "data = pd.read_csv('/content/drive/MyDrive/Dataset/Base.csv', delimiter=';')\n",
        "print(data.shape)\n",
        "\n",
        "data.info()"
      ],
      "metadata": {
        "colab": {
          "base_uri": "https://localhost:8080/"
        },
        "id": "AtF0PlnRFzRf",
        "outputId": "ef61e59b-ee55-4d2b-bbcd-5b3b9a5fe528"
      },
      "execution_count": 60,
      "outputs": [
        {
          "output_type": "stream",
          "name": "stdout",
          "text": [
            "(1000000, 14)\n",
            "<class 'pandas.core.frame.DataFrame'>\n",
            "RangeIndex: 1000000 entries, 0 to 999999\n",
            "Data columns (total 14 columns):\n",
            " #   Column                        Non-Null Count    Dtype  \n",
            "---  ------                        --------------    -----  \n",
            " 0   income                        1000000 non-null  float64\n",
            " 1   name_email_similarity         1000000 non-null  float64\n",
            " 2   prev_address_months_count     1000000 non-null  int64  \n",
            " 3   current_address_months_count  1000000 non-null  int64  \n",
            " 4   customer_age                  1000000 non-null  int64  \n",
            " 5   intended_balcon_amount        1000000 non-null  float64\n",
            " 6   zip_count_4w                  1000000 non-null  int64  \n",
            " 7   velocity_6h                   1000000 non-null  float64\n",
            " 8   velocity_24h                  1000000 non-null  float64\n",
            " 9   velocity_4w                   1000000 non-null  float64\n",
            " 10  credit_risk_score             1000000 non-null  int64  \n",
            " 11  bank_months_count             1000000 non-null  int64  \n",
            " 12  proposed_credit_limit         1000000 non-null  int64  \n",
            " 13  payment_type                  1000000 non-null  object \n",
            "dtypes: float64(6), int64(7), object(1)\n",
            "memory usage: 106.8+ MB\n"
          ]
        }
      ]
    },
    {
      "cell_type": "code",
      "source": [
        "\n",
        "\n",
        "def generate_synthetic_data_with_perturbations(num_samples, real_data):\n",
        "    synthetic_data = {}\n",
        "\n",
        "    # Definir un rango de perturbaciones\n",
        "    perturbation_scale = 0.1\n",
        "\n",
        "    for col in real_data.columns:\n",
        "        if real_data[col].dtype in [np.float64, np.int64]:\n",
        "            unique_values = real_data[col].values\n",
        "\n",
        "            # Generar datos sintéticos\n",
        "            base_values = np.random.choice(unique_values, size=num_samples)\n",
        "            perturbations = base_values * np.random.uniform(-perturbation_scale, perturbation_scale, size=num_samples)\n",
        "            synthetic_data[col] = base_values + perturbations\n",
        "\n",
        "        elif real_data[col].dtype == object:\n",
        "            # Para columnas categóricas\n",
        "            synthetic_data[col] = np.random.choice(real_data[col].unique(), size=num_samples)\n",
        "\n",
        "    return pd.DataFrame(synthetic_data)\n",
        "\n",
        "\n",
        "\n",
        "syntheticData = generate_synthetic_data_with_perturbations(1000000, data)\n",
        "\n",
        "# Concatenar con el DataFrame original\n",
        "combinedData = pd.concat([data, syntheticData], ignore_index=True)\n",
        "\n",
        "print(combinedData.shape)"
      ],
      "metadata": {
        "colab": {
          "base_uri": "https://localhost:8080/"
        },
        "id": "xBS8eJIwtYmg",
        "outputId": "7d2e180f-b93e-4036-e292-597cb606610a"
      },
      "execution_count": 63,
      "outputs": [
        {
          "output_type": "stream",
          "name": "stdout",
          "text": [
            "(2000000, 14)\n"
          ]
        }
      ]
    },
    {
      "cell_type": "code",
      "source": [
        "y = combinedData.iloc[:, -1]\n",
        "print(y)\n",
        "mapping = {'AB': 0, 'AA': 1, 'AC': 2, 'AE': 3, 'AD': 4}\n",
        "def convert_column_to_numeric(data, mapping):\n",
        "    vectorized_map = np.vectorize(mapping.get)\n",
        "    numeric_data = vectorized_map(data)\n",
        "    return numeric_data\n",
        "numeric_data = convert_column_to_numeric(y, mapping)\n",
        "y = numeric_data\n",
        "print(y)"
      ],
      "metadata": {
        "colab": {
          "base_uri": "https://localhost:8080/"
        },
        "id": "hD_4EprzLuRe",
        "outputId": "21c8d4fc-3586-4aa7-c35d-db56547f1af3"
      },
      "execution_count": 62,
      "outputs": [
        {
          "output_type": "stream",
          "name": "stdout",
          "text": [
            "0          AA\n",
            "1          AD\n",
            "2          AB\n",
            "3          AB\n",
            "4          AA\n",
            "           ..\n",
            "1999995    AC\n",
            "1999996    AB\n",
            "1999997    AC\n",
            "1999998    AA\n",
            "1999999    AB\n",
            "Name: payment_type, Length: 2000000, dtype: object\n",
            "[1 4 0 ... 2 1 0]\n"
          ]
        }
      ]
    },
    {
      "cell_type": "code",
      "source": [
        "X=combinedData.iloc[:,:-1]\n",
        "print(X.shape)\n",
        "def income_group(income):\n",
        "    if income < 3:\n",
        "        return 'Low'\n",
        "    elif 3 <= income < 7:\n",
        "        return 'Medium'\n",
        "    else:\n",
        "        return 'High'\n",
        "X['income_level'] = X['income'].apply(income_group)\n",
        "print(X.shape)\n",
        "print(X)"
      ],
      "metadata": {
        "colab": {
          "base_uri": "https://localhost:8080/"
        },
        "id": "N4JAvCoLOzm-",
        "outputId": "9e668fde-610d-4e81-d94f-1adeac6924da"
      },
      "execution_count": 64,
      "outputs": [
        {
          "output_type": "stream",
          "name": "stdout",
          "text": [
            "(2000000, 13)\n",
            "(2000000, 14)\n",
            "               income  name_email_similarity  prev_address_months_count  \\\n",
            "0        3.000000e+00           9.865060e+14                  -1.000000   \n",
            "1        8.000000e+00           6.174260e+15                  -1.000000   \n",
            "2        8.000000e+00           9.967070e+15                   9.000000   \n",
            "3        6.000000e+15           4.751000e+15                  11.000000   \n",
            "4        9.000000e+00           8.423070e+15                  -1.000000   \n",
            "...               ...                    ...                        ...   \n",
            "1999995  5.922417e+15           4.719076e+15                  -0.953121   \n",
            "1999996  1.047954e+00           1.130409e+15                  -0.928225   \n",
            "1999997  6.760497e+15           9.586741e+12                  32.291126   \n",
            "1999998  2.173697e+00           3.858849e+15                  -1.026554   \n",
            "1999999  6.790013e+15           8.615152e+15                  95.575156   \n",
            "\n",
            "         current_address_months_count  customer_age  intended_balcon_amount  \\\n",
            "0                           25.000000     40.000000            1.024540e+16   \n",
            "1                           89.000000     20.000000           -8.495510e+15   \n",
            "2                           14.000000     40.000000           -1.490390e+16   \n",
            "3                           14.000000     30.000000           -1.863100e+16   \n",
            "4                           29.000000     40.000000            4.715250e+16   \n",
            "...                               ...           ...                     ...   \n",
            "1999995                     12.283372     42.117462           -5.455262e+15   \n",
            "1999996                    315.860742     28.009317            2.505178e+15   \n",
            "1999997                     50.292408     45.327095           -9.180122e+15   \n",
            "1999998                      7.373503     18.478018           -4.143879e+15   \n",
            "1999999                      2.153128     27.733786           -1.249248e+16   \n",
            "\n",
            "         zip_count_4w   velocity_6h  velocity_24h   velocity_4w  \\\n",
            "0         1059.000000  1.309600e+16  7.850960e+15  6.742080e+15   \n",
            "1         1658.000000  9.223280e+15  5.745250e+15  5.941660e+16   \n",
            "2         1095.000000  4.471470e+15  5.471990e+15  5.992560e+15   \n",
            "3         3483.000000  1.443200e+16  6.755340e+14  5.970340e+15   \n",
            "4         2339.000000  7.601510e+15  5.124050e+15  5.940730e+15   \n",
            "...               ...           ...           ...           ...   \n",
            "1999995   4421.939580  8.585162e+15  5.285956e+15  4.870165e+15   \n",
            "1999996   1625.132318  7.792865e+16  3.569473e+15  5.788836e+15   \n",
            "1999997   2683.767520  4.539522e+15  7.594618e+15  5.066192e+15   \n",
            "1999998    959.034513  1.332142e+16  6.977703e+15  3.029046e+16   \n",
            "1999999    442.570916  7.172340e+15  2.939329e+14  5.401764e+15   \n",
            "\n",
            "         credit_risk_score  bank_months_count  proposed_credit_limit  \\\n",
            "0               163.000000           9.000000           15000.000000   \n",
            "1               154.000000           2.000000           15000.000000   \n",
            "2                89.000000          30.000000            2000.000000   \n",
            "3                90.000000           1.000000            2000.000000   \n",
            "4                91.000000          26.000000            2000.000000   \n",
            "...                    ...                ...                    ...   \n",
            "1999995         220.358951          23.762708            2091.378151   \n",
            "1999996         204.946943          -1.029263            2048.288964   \n",
            "1999997         130.767685          -0.926069            2099.015693   \n",
            "1999998         101.523009          25.298759            4733.493863   \n",
            "1999999         221.309860           4.594969            1927.050760   \n",
            "\n",
            "        income_level  \n",
            "0             Medium  \n",
            "1               High  \n",
            "2               High  \n",
            "3               High  \n",
            "4               High  \n",
            "...              ...  \n",
            "1999995         High  \n",
            "1999996          Low  \n",
            "1999997         High  \n",
            "1999998          Low  \n",
            "1999999         High  \n",
            "\n",
            "[2000000 rows x 14 columns]\n"
          ]
        }
      ]
    },
    {
      "cell_type": "code",
      "source": [
        "X['has_long_stable_address'] = (\n",
        "    (X['prev_address_months_count'] >= 52) |\n",
        "    (X['current_address_months_count'] >= 52)\n",
        ").astype(int)\n",
        "print(X.shape)\n",
        "print(X)"
      ],
      "metadata": {
        "colab": {
          "base_uri": "https://localhost:8080/"
        },
        "id": "Hf06xVWJS5y0",
        "outputId": "46b2087d-a03e-4cc4-c5fa-30acfd3756b0"
      },
      "execution_count": 65,
      "outputs": [
        {
          "output_type": "stream",
          "name": "stdout",
          "text": [
            "(2000000, 15)\n",
            "               income  name_email_similarity  prev_address_months_count  \\\n",
            "0        3.000000e+00           9.865060e+14                  -1.000000   \n",
            "1        8.000000e+00           6.174260e+15                  -1.000000   \n",
            "2        8.000000e+00           9.967070e+15                   9.000000   \n",
            "3        6.000000e+15           4.751000e+15                  11.000000   \n",
            "4        9.000000e+00           8.423070e+15                  -1.000000   \n",
            "...               ...                    ...                        ...   \n",
            "1999995  5.922417e+15           4.719076e+15                  -0.953121   \n",
            "1999996  1.047954e+00           1.130409e+15                  -0.928225   \n",
            "1999997  6.760497e+15           9.586741e+12                  32.291126   \n",
            "1999998  2.173697e+00           3.858849e+15                  -1.026554   \n",
            "1999999  6.790013e+15           8.615152e+15                  95.575156   \n",
            "\n",
            "         current_address_months_count  customer_age  intended_balcon_amount  \\\n",
            "0                           25.000000     40.000000            1.024540e+16   \n",
            "1                           89.000000     20.000000           -8.495510e+15   \n",
            "2                           14.000000     40.000000           -1.490390e+16   \n",
            "3                           14.000000     30.000000           -1.863100e+16   \n",
            "4                           29.000000     40.000000            4.715250e+16   \n",
            "...                               ...           ...                     ...   \n",
            "1999995                     12.283372     42.117462           -5.455262e+15   \n",
            "1999996                    315.860742     28.009317            2.505178e+15   \n",
            "1999997                     50.292408     45.327095           -9.180122e+15   \n",
            "1999998                      7.373503     18.478018           -4.143879e+15   \n",
            "1999999                      2.153128     27.733786           -1.249248e+16   \n",
            "\n",
            "         zip_count_4w   velocity_6h  velocity_24h   velocity_4w  \\\n",
            "0         1059.000000  1.309600e+16  7.850960e+15  6.742080e+15   \n",
            "1         1658.000000  9.223280e+15  5.745250e+15  5.941660e+16   \n",
            "2         1095.000000  4.471470e+15  5.471990e+15  5.992560e+15   \n",
            "3         3483.000000  1.443200e+16  6.755340e+14  5.970340e+15   \n",
            "4         2339.000000  7.601510e+15  5.124050e+15  5.940730e+15   \n",
            "...               ...           ...           ...           ...   \n",
            "1999995   4421.939580  8.585162e+15  5.285956e+15  4.870165e+15   \n",
            "1999996   1625.132318  7.792865e+16  3.569473e+15  5.788836e+15   \n",
            "1999997   2683.767520  4.539522e+15  7.594618e+15  5.066192e+15   \n",
            "1999998    959.034513  1.332142e+16  6.977703e+15  3.029046e+16   \n",
            "1999999    442.570916  7.172340e+15  2.939329e+14  5.401764e+15   \n",
            "\n",
            "         credit_risk_score  bank_months_count  proposed_credit_limit  \\\n",
            "0               163.000000           9.000000           15000.000000   \n",
            "1               154.000000           2.000000           15000.000000   \n",
            "2                89.000000          30.000000            2000.000000   \n",
            "3                90.000000           1.000000            2000.000000   \n",
            "4                91.000000          26.000000            2000.000000   \n",
            "...                    ...                ...                    ...   \n",
            "1999995         220.358951          23.762708            2091.378151   \n",
            "1999996         204.946943          -1.029263            2048.288964   \n",
            "1999997         130.767685          -0.926069            2099.015693   \n",
            "1999998         101.523009          25.298759            4733.493863   \n",
            "1999999         221.309860           4.594969            1927.050760   \n",
            "\n",
            "        income_level  has_long_stable_address  \n",
            "0             Medium                        0  \n",
            "1               High                        1  \n",
            "2               High                        0  \n",
            "3               High                        0  \n",
            "4               High                        0  \n",
            "...              ...                      ...  \n",
            "1999995         High                        0  \n",
            "1999996          Low                        1  \n",
            "1999997         High                        0  \n",
            "1999998          Low                        0  \n",
            "1999999         High                        1  \n",
            "\n",
            "[2000000 rows x 15 columns]\n"
          ]
        }
      ]
    },
    {
      "cell_type": "code",
      "source": [
        "def risk_group(credit_risk_score):\n",
        "    if credit_risk_score <= 83:\n",
        "        return 'Low'\n",
        "    elif 83 < credit_risk_score <= 122:\n",
        "        return 'Medium'\n",
        "    elif 122 < credit_risk_score <= 178:\n",
        "        return 'High'\n",
        "    else:\n",
        "        return 'Very High'\n",
        "X['risk_category'] = X['credit_risk_score'].apply(risk_group)\n",
        "print(X.shape)\n",
        "print(X)"
      ],
      "metadata": {
        "colab": {
          "base_uri": "https://localhost:8080/"
        },
        "id": "8nxcuLcrVvaR",
        "outputId": "c4b0c3a1-3b31-4ffa-b339-fd5bbdbaaa20"
      },
      "execution_count": 66,
      "outputs": [
        {
          "output_type": "stream",
          "name": "stdout",
          "text": [
            "(2000000, 16)\n",
            "               income  name_email_similarity  prev_address_months_count  \\\n",
            "0        3.000000e+00           9.865060e+14                  -1.000000   \n",
            "1        8.000000e+00           6.174260e+15                  -1.000000   \n",
            "2        8.000000e+00           9.967070e+15                   9.000000   \n",
            "3        6.000000e+15           4.751000e+15                  11.000000   \n",
            "4        9.000000e+00           8.423070e+15                  -1.000000   \n",
            "...               ...                    ...                        ...   \n",
            "1999995  5.922417e+15           4.719076e+15                  -0.953121   \n",
            "1999996  1.047954e+00           1.130409e+15                  -0.928225   \n",
            "1999997  6.760497e+15           9.586741e+12                  32.291126   \n",
            "1999998  2.173697e+00           3.858849e+15                  -1.026554   \n",
            "1999999  6.790013e+15           8.615152e+15                  95.575156   \n",
            "\n",
            "         current_address_months_count  customer_age  intended_balcon_amount  \\\n",
            "0                           25.000000     40.000000            1.024540e+16   \n",
            "1                           89.000000     20.000000           -8.495510e+15   \n",
            "2                           14.000000     40.000000           -1.490390e+16   \n",
            "3                           14.000000     30.000000           -1.863100e+16   \n",
            "4                           29.000000     40.000000            4.715250e+16   \n",
            "...                               ...           ...                     ...   \n",
            "1999995                     12.283372     42.117462           -5.455262e+15   \n",
            "1999996                    315.860742     28.009317            2.505178e+15   \n",
            "1999997                     50.292408     45.327095           -9.180122e+15   \n",
            "1999998                      7.373503     18.478018           -4.143879e+15   \n",
            "1999999                      2.153128     27.733786           -1.249248e+16   \n",
            "\n",
            "         zip_count_4w   velocity_6h  velocity_24h   velocity_4w  \\\n",
            "0         1059.000000  1.309600e+16  7.850960e+15  6.742080e+15   \n",
            "1         1658.000000  9.223280e+15  5.745250e+15  5.941660e+16   \n",
            "2         1095.000000  4.471470e+15  5.471990e+15  5.992560e+15   \n",
            "3         3483.000000  1.443200e+16  6.755340e+14  5.970340e+15   \n",
            "4         2339.000000  7.601510e+15  5.124050e+15  5.940730e+15   \n",
            "...               ...           ...           ...           ...   \n",
            "1999995   4421.939580  8.585162e+15  5.285956e+15  4.870165e+15   \n",
            "1999996   1625.132318  7.792865e+16  3.569473e+15  5.788836e+15   \n",
            "1999997   2683.767520  4.539522e+15  7.594618e+15  5.066192e+15   \n",
            "1999998    959.034513  1.332142e+16  6.977703e+15  3.029046e+16   \n",
            "1999999    442.570916  7.172340e+15  2.939329e+14  5.401764e+15   \n",
            "\n",
            "         credit_risk_score  bank_months_count  proposed_credit_limit  \\\n",
            "0               163.000000           9.000000           15000.000000   \n",
            "1               154.000000           2.000000           15000.000000   \n",
            "2                89.000000          30.000000            2000.000000   \n",
            "3                90.000000           1.000000            2000.000000   \n",
            "4                91.000000          26.000000            2000.000000   \n",
            "...                    ...                ...                    ...   \n",
            "1999995         220.358951          23.762708            2091.378151   \n",
            "1999996         204.946943          -1.029263            2048.288964   \n",
            "1999997         130.767685          -0.926069            2099.015693   \n",
            "1999998         101.523009          25.298759            4733.493863   \n",
            "1999999         221.309860           4.594969            1927.050760   \n",
            "\n",
            "        income_level  has_long_stable_address risk_category  \n",
            "0             Medium                        0          High  \n",
            "1               High                        1          High  \n",
            "2               High                        0        Medium  \n",
            "3               High                        0        Medium  \n",
            "4               High                        0        Medium  \n",
            "...              ...                      ...           ...  \n",
            "1999995         High                        0     Very High  \n",
            "1999996          Low                        1     Very High  \n",
            "1999997         High                        0          High  \n",
            "1999998          Low                        0        Medium  \n",
            "1999999         High                        1     Very High  \n",
            "\n",
            "[2000000 rows x 16 columns]\n"
          ]
        }
      ]
    },
    {
      "cell_type": "code",
      "source": [
        "plt.figure(figsize=(12, 6))\n",
        "\n",
        "# Gráfico para 'income'\n",
        "plt.subplot(1, 2, 1)\n",
        "plt.hist(data['income'], bins=30, alpha=0.5, label='Real', color='blue')\n",
        "plt.hist(syntheticData['income'], bins=30, alpha=0.5, label='Sintético', color='orange')\n",
        "plt.title('Distribución de Income')\n",
        "plt.xlabel('Income')\n",
        "plt.ylabel('Frecuencia')\n",
        "plt.legend()\n",
        "\n",
        "# Gráfico para 'credit_risk_score'\n",
        "plt.subplot(1, 2, 2)\n",
        "plt.hist(data['credit_risk_score'], bins=30, alpha=0.5, label='Real', color='blue')\n",
        "plt.hist(syntheticData['credit_risk_score'], bins=30, alpha=0.5, label='Sintético', color='orange')\n",
        "plt.title('Distribución de Credit Risk Score')\n",
        "plt.xlabel('Credit Risk Score')\n",
        "plt.ylabel('Frecuencia')\n",
        "plt.legend()\n",
        "\n",
        "# Mostrar gráficos\n",
        "plt.tight_layout()\n",
        "plt.show()"
      ],
      "metadata": {
        "colab": {
          "base_uri": "https://localhost:8080/",
          "height": 554
        },
        "id": "qZO89xU2ug3W",
        "outputId": "d0f965ab-1317-4eb7-89b7-ea7e2420a84e"
      },
      "execution_count": 67,
      "outputs": [
        {
          "output_type": "display_data",
          "data": {
            "text/plain": [
              "<Figure size 1200x600 with 2 Axes>"
            ],
            "image/png": "[encoded data removed]"
          },
          "metadata": {}
        }
      ]
    },
    {
      "cell_type": "code",
      "source": [
        "def convert_labels_to_binary(labels, uniquelabel):\n",
        "    binary_labels = np.where(labels == uniquelabel, 1, 0)\n",
        "    return binary_labels"
      ],
      "metadata": {
        "id": "cNLm2ZMX_WUM"
      },
      "execution_count": 68,
      "outputs": []
    },
    {
      "cell_type": "code",
      "source": [
        "category_mapping = {\n",
        "    'Low': 1.0,\n",
        "    'Medium': 2.0,\n",
        "    'High': 3.0\n",
        "}\n",
        "\n",
        "# Función para convertir los strings a valores flotantes usando el diccionario\n",
        "def map_category(value):\n",
        "    return category_mapping.get(value, np.nan)\n",
        "\n",
        "# Aplicar el mapeo solo a la columna de strings (índice 15, que es la columna 16)\n",
        "X.iloc[:, 13] = X.iloc[:, 13].apply(map_category)\n",
        "# Convertir toda la matriz a tipo float\n",
        "#X = X.astype(float)\n",
        "\n",
        "# Verificar que la conversión fue exitosa\n",
        "print(X.iloc[:5, :])  # Mostrar las primeras 5 filas"
      ],
      "metadata": {
        "colab": {
          "base_uri": "https://localhost:8080/"
        },
        "id": "B-Et8MAJGGm3",
        "outputId": "e130b261-c203-4f87-d9c2-fca71750aad3"
      },
      "execution_count": 69,
      "outputs": [
        {
          "output_type": "stream",
          "name": "stdout",
          "text": [
            "         income  name_email_similarity  prev_address_months_count  \\\n",
            "0  3.000000e+00           9.865060e+14                       -1.0   \n",
            "1  8.000000e+00           6.174260e+15                       -1.0   \n",
            "2  8.000000e+00           9.967070e+15                        9.0   \n",
            "3  6.000000e+15           4.751000e+15                       11.0   \n",
            "4  9.000000e+00           8.423070e+15                       -1.0   \n",
            "\n",
            "   current_address_months_count  customer_age  intended_balcon_amount  \\\n",
            "0                          25.0          40.0            1.024540e+16   \n",
            "1                          89.0          20.0           -8.495510e+15   \n",
            "2                          14.0          40.0           -1.490390e+16   \n",
            "3                          14.0          30.0           -1.863100e+16   \n",
            "4                          29.0          40.0            4.715250e+16   \n",
            "\n",
            "   zip_count_4w   velocity_6h  velocity_24h   velocity_4w  credit_risk_score  \\\n",
            "0        1059.0  1.309600e+16  7.850960e+15  6.742080e+15              163.0   \n",
            "1        1658.0  9.223280e+15  5.745250e+15  5.941660e+16              154.0   \n",
            "2        1095.0  4.471470e+15  5.471990e+15  5.992560e+15               89.0   \n",
            "3        3483.0  1.443200e+16  6.755340e+14  5.970340e+15               90.0   \n",
            "4        2339.0  7.601510e+15  5.124050e+15  5.940730e+15               91.0   \n",
            "\n",
            "   bank_months_count  proposed_credit_limit income_level  \\\n",
            "0                9.0                15000.0          2.0   \n",
            "1                2.0                15000.0          3.0   \n",
            "2               30.0                 2000.0          3.0   \n",
            "3                1.0                 2000.0          3.0   \n",
            "4               26.0                 2000.0          3.0   \n",
            "\n",
            "   has_long_stable_address risk_category  \n",
            "0                        0          High  \n",
            "1                        1          High  \n",
            "2                        0        Medium  \n",
            "3                        0        Medium  \n",
            "4                        0        Medium  \n"
          ]
        }
      ]
    },
    {
      "cell_type": "code",
      "source": [
        "category_mapping = {\n",
        "    'Low': 1.0,\n",
        "    'Medium': 2.0,\n",
        "    'High': 3.0,\n",
        "    'Very High': 4.0\n",
        "}\n",
        "\n",
        "# Función para convertir los strings a valores flotantes usando el diccionario\n",
        "def map_category2(value):\n",
        "    return category_mapping.get(value, np.nan)\n",
        "\n",
        "# Aplicar el mapeo solo a la columna de strings (índice 15, que es la columna 16)\n",
        "X.iloc[:, -1] = X.iloc[:, -1].apply(map_category2)\n",
        "# Convertir toda la matriz a tipo float\n",
        "#X = X.astype(float)\n",
        "\n",
        "# Verificar que la conversión fue exitosa\n",
        "print(X.iloc[:5, :])  # Mostrar las primeras 5 filas"
      ],
      "metadata": {
        "colab": {
          "base_uri": "https://localhost:8080/"
        },
        "outputId": "3c46ed46-af2f-4dd0-c286-a13de07db92a",
        "id": "VgBmq4jZde5T"
      },
      "execution_count": 70,
      "outputs": [
        {
          "output_type": "stream",
          "name": "stdout",
          "text": [
            "         income  name_email_similarity  prev_address_months_count  \\\n",
            "0  3.000000e+00           9.865060e+14                       -1.0   \n",
            "1  8.000000e+00           6.174260e+15                       -1.0   \n",
            "2  8.000000e+00           9.967070e+15                        9.0   \n",
            "3  6.000000e+15           4.751000e+15                       11.0   \n",
            "4  9.000000e+00           8.423070e+15                       -1.0   \n",
            "\n",
            "   current_address_months_count  customer_age  intended_balcon_amount  \\\n",
            "0                          25.0          40.0            1.024540e+16   \n",
            "1                          89.0          20.0           -8.495510e+15   \n",
            "2                          14.0          40.0           -1.490390e+16   \n",
            "3                          14.0          30.0           -1.863100e+16   \n",
            "4                          29.0          40.0            4.715250e+16   \n",
            "\n",
            "   zip_count_4w   velocity_6h  velocity_24h   velocity_4w  credit_risk_score  \\\n",
            "0        1059.0  1.309600e+16  7.850960e+15  6.742080e+15              163.0   \n",
            "1        1658.0  9.223280e+15  5.745250e+15  5.941660e+16              154.0   \n",
            "2        1095.0  4.471470e+15  5.471990e+15  5.992560e+15               89.0   \n",
            "3        3483.0  1.443200e+16  6.755340e+14  5.970340e+15               90.0   \n",
            "4        2339.0  7.601510e+15  5.124050e+15  5.940730e+15               91.0   \n",
            "\n",
            "   bank_months_count  proposed_credit_limit income_level  \\\n",
            "0                9.0                15000.0          2.0   \n",
            "1                2.0                15000.0          3.0   \n",
            "2               30.0                 2000.0          3.0   \n",
            "3                1.0                 2000.0          3.0   \n",
            "4               26.0                 2000.0          3.0   \n",
            "\n",
            "   has_long_stable_address risk_category  \n",
            "0                        0           3.0  \n",
            "1                        1           3.0  \n",
            "2                        0           2.0  \n",
            "3                        0           2.0  \n",
            "4                        0           2.0  \n"
          ]
        }
      ]
    },
    {
      "cell_type": "code",
      "source": [
        "X = X.drop(columns=['risk_category'])"
      ],
      "metadata": {
        "id": "zTeBx-bAcQ8F"
      },
      "execution_count": null,
      "outputs": []
    },
    {
      "cell_type": "code",
      "execution_count": 71,
      "metadata": {
        "id": "7u9Fd9k5gLL0"
      },
      "outputs": [],
      "source": [
        "def  featureNormalize(X):\n",
        "    X = np.asarray(X, dtype=np.float64)\n",
        "    X_norm = X.copy() # Use the input X to create a copy\n",
        "    mu = np.zeros(X.shape[1]) # Use the input X dimensions\n",
        "    sigma = np.zeros(X.shape[1]) # Use the input X dimensions\n",
        "\n",
        "    mu = np.mean(X, axis = 0) # Calculate the mean of the input X\n",
        "    sigma = np.std(X, axis = 0) # Calculate the standard deviation of the input X\n",
        "    X_norm = (X - mu) / sigma # Normalize the input X\n",
        "\n",
        "    return X_norm, mu, sigma"
      ]
    },
    {
      "cell_type": "code",
      "execution_count": 72,
      "metadata": {
        "id": "ELtMkiYDJVNi"
      },
      "outputs": [],
      "source": [
        "# Configurar la matriz adecuadamente, y agregar una columna de unos que corresponde al termino de intercepción.\n",
        "m, n = X.shape\n",
        "# Agraga el termino de intercepción a A\n",
        "X_norm, mu, sigma = featureNormalize(X)\n",
        "X = X_norm\n",
        "X = np.concatenate([np.ones((m, 1)), X], axis=1)"
      ]
    },
    {
      "cell_type": "code",
      "source": [
        "print(X)\n",
        "\n",
        "indices = np.arange(X.shape[0])\n",
        "np.random.shuffle(indices)\n",
        "\n",
        "split_index = int(0.8 * X.shape[0])\n",
        "train_indices = indices[:split_index]\n",
        "test_indices = indices[split_index:]\n",
        "\n",
        "\n",
        "X_train = X[train_indices]\n",
        "X_test = X[test_indices]\n",
        "\n",
        "Y_train = y[train_indices]\n",
        "Y_test = y[test_indices]\n",
        "print(\"Training set shape:\", X_train.shape)\n",
        "print(\"Test set shape:\", X_test.shape)\n",
        "print(\"Training set shape:\", Y_train.shape)\n",
        "print(\"Test set shape:\", Y_test.shape)\n",
        "\n",
        "y_label0 = y.copy()\n",
        "y_label0 = convert_labels_to_binary(y_label0, 0)\n",
        "y_label1 = y.copy()\n",
        "y_label1 = convert_labels_to_binary(y_label1, 1)\n",
        "y_label2 = y.copy()\n",
        "y_label2 = convert_labels_to_binary(y_label2, 2)\n",
        "y_label3 = y.copy()\n",
        "y_label3 = convert_labels_to_binary(y_label3, 3)\n",
        "\n",
        "\n",
        "y_label0_train = y_label0[train_indices]\n",
        "y_label0_test = y_label0[test_indices]\n",
        "y_label1_train = y_label1[train_indices]\n",
        "y_label1_test = y_label1[test_indices]\n",
        "y_label2_train = y_label2[train_indices]\n",
        "y_label2_test = y_label2[test_indices]\n",
        "y_label3_train = y_label3[train_indices]\n",
        "y_label3_test = y_label3[test_indices]"
      ],
      "metadata": {
        "colab": {
          "base_uri": "https://localhost:8080/"
        },
        "id": "9CXh4NUx3LLv",
        "outputId": "dc66d7df-e0aa-4511-cd6f-fdfb2742b47f"
      },
      "execution_count": 73,
      "outputs": [
        {
          "output_type": "stream",
          "name": "stdout",
          "text": [
            "[[ 1.         -0.52384013 -1.17850698 ... -0.41073229 -1.17147694\n",
            "   0.44930376]\n",
            " [ 1.         -0.52384013  0.5315851  ...  0.77966843  0.85362329\n",
            "   0.44930376]\n",
            " [ 1.         -0.52384013  1.78184761 ...  0.77966843 -1.17147694\n",
            "  -0.44446312]\n",
            " ...\n",
            " [ 1.          1.99377555 -1.5005388  ...  0.77966843 -1.17147694\n",
            "   0.44930376]\n",
            " [ 1.         -0.52384013 -0.23166751 ... -1.60113302 -1.17147694\n",
            "  -0.44446312]\n",
            " [ 1.          2.0047674   1.33620098 ...  0.77966843  0.85362329\n",
            "   1.34307064]]\n",
            "Training set shape: (1600000, 17)\n",
            "Test set shape: (400000, 17)\n",
            "Training set shape: (1600000,)\n",
            "Test set shape: (400000,)\n"
          ]
        }
      ]
    },
    {
      "cell_type": "code",
      "source": [
        "print(y_label0)\n",
        "print(y_label1)\n",
        "print(y_label2)\n",
        "print(y_label3)"
      ],
      "metadata": {
        "colab": {
          "base_uri": "https://localhost:8080/"
        },
        "id": "gTEuoPb79Pi0",
        "outputId": "34517ce8-5b8f-4713-e5a2-06549627e595"
      },
      "execution_count": 74,
      "outputs": [
        {
          "output_type": "stream",
          "name": "stdout",
          "text": [
            "[0 0 1 ... 0 0 1]\n",
            "[1 0 0 ... 0 1 0]\n",
            "[0 0 0 ... 1 0 0]\n",
            "[0 0 0 ... 0 0 0]\n"
          ]
        }
      ]
    },
    {
      "cell_type": "code",
      "execution_count": 75,
      "metadata": {
        "id": "pk9dV23xJVNh"
      },
      "outputs": [],
      "source": [
        "def sigmoid(z):\n",
        "    # Calcula la sigmoide de una entrada z\n",
        "    # convierte la intrada a un arreglo numpy\n",
        "    z = np.array(z)\n",
        "\n",
        "    g = np.zeros(z.shape)\n",
        "\n",
        "    g = 1 / (1 + np.exp(-z))\n",
        "\n",
        "    return g"
      ]
    },
    {
      "cell_type": "code",
      "execution_count": 79,
      "metadata": {
        "id": "iqDZRIgjJVNi"
      },
      "outputs": [],
      "source": [
        "def calcularCosto(theta, X, y):\n",
        "    # Inicializar algunos valores utiles\n",
        "    m = y.size  # numero de ejemplos de entrenamiento\n",
        "\n",
        "    J = 0\n",
        "    h = sigmoid(X.dot(theta.T))\n",
        "    J = (1 / m) * np.sum(-y.dot(np.log(h)) - (1 - y).dot(np.log(1 - h)))\n",
        "    #print(J)\n",
        "    return J"
      ]
    },
    {
      "cell_type": "code",
      "execution_count": 80,
      "metadata": {
        "id": "7G4SjTrwJVNi"
      },
      "outputs": [],
      "source": [
        "def descensoGradiente(theta, X, y, alpha, num_iters):\n",
        "    # Inicializa algunos valores\n",
        "    m = y.shape[0] # numero de ejemplos de entrenamiento\n",
        "\n",
        "    # realiza una copia de theta, el cual será acutalizada por el descenso por el gradiente\n",
        "    theta = theta.copy()\n",
        "    J_history = []\n",
        "    X = np.array(X)\n",
        "    X = X.astype(float)\n",
        "    for i in range(num_iters):\n",
        "        h = sigmoid(X.dot(theta.T))\n",
        "        theta = theta - (alpha / m) * (h - y).dot(X)\n",
        "\n",
        "        J_history.append(calcularCosto(theta, X, y))\n",
        "    return theta, J_history"
      ]
    },
    {
      "cell_type": "code",
      "execution_count": 83,
      "metadata": {
        "scrolled": true,
        "colab": {
          "base_uri": "https://localhost:8080/",
          "height": 348
        },
        "id": "rBUlehg6JVNi",
        "outputId": "2e2df79a-aa91-40e2-b3ec-40b055e8ba77"
      },
      "outputs": [
        {
          "output_type": "error",
          "ename": "KeyboardInterrupt",
          "evalue": "",
          "traceback": [
            "\u001b[0;31m---------------------------------------------------------------------------\u001b[0m",
            "\u001b[0;31mKeyboardInterrupt\u001b[0m                         Traceback (most recent call last)",
            "\u001b[0;32m<ipython-input-83-f20f685595e0>\u001b[0m in \u001b[0;36m<cell line: 7>\u001b[0;34m()\u001b[0m\n\u001b[1;32m      5\u001b[0m \u001b[0;31m# inicializa theta y ejecuta el descenso por el gradiente\u001b[0m\u001b[0;34m\u001b[0m\u001b[0;34m\u001b[0m\u001b[0m\n\u001b[1;32m      6\u001b[0m \u001b[0mtheta\u001b[0m \u001b[0;34m=\u001b[0m \u001b[0mnp\u001b[0m\u001b[0;34m.\u001b[0m\u001b[0mzeros\u001b[0m\u001b[0;34m(\u001b[0m\u001b[0;36m17\u001b[0m\u001b[0;34m)\u001b[0m\u001b[0;34m\u001b[0m\u001b[0;34m\u001b[0m\u001b[0m\n\u001b[0;32m----> 7\u001b[0;31m \u001b[0mtheta\u001b[0m\u001b[0;34m,\u001b[0m \u001b[0mJ_history\u001b[0m \u001b[0;34m=\u001b[0m \u001b[0mdescensoGradiente\u001b[0m\u001b[0;34m(\u001b[0m\u001b[0mtheta\u001b[0m\u001b[0;34m,\u001b[0m \u001b[0mX_train\u001b[0m\u001b[0;34m,\u001b[0m \u001b[0my_label0_train\u001b[0m\u001b[0;34m,\u001b[0m \u001b[0malpha\u001b[0m\u001b[0;34m,\u001b[0m \u001b[0mnum_iters\u001b[0m\u001b[0;34m)\u001b[0m\u001b[0;34m\u001b[0m\u001b[0;34m\u001b[0m\u001b[0m\n\u001b[0m\u001b[1;32m      8\u001b[0m \u001b[0;34m\u001b[0m\u001b[0m\n\u001b[1;32m      9\u001b[0m \u001b[0;31m# Grafica la convergencia del costo\u001b[0m\u001b[0;34m\u001b[0m\u001b[0;34m\u001b[0m\u001b[0m\n",
            "\u001b[0;32m<ipython-input-80-59b4c92dcb46>\u001b[0m in \u001b[0;36mdescensoGradiente\u001b[0;34m(theta, X, y, alpha, num_iters)\u001b[0m\n\u001b[1;32m      9\u001b[0m     \u001b[0mX\u001b[0m \u001b[0;34m=\u001b[0m \u001b[0mX\u001b[0m\u001b[0;34m.\u001b[0m\u001b[0mastype\u001b[0m\u001b[0;34m(\u001b[0m\u001b[0mfloat\u001b[0m\u001b[0;34m)\u001b[0m\u001b[0;34m\u001b[0m\u001b[0;34m\u001b[0m\u001b[0m\n\u001b[1;32m     10\u001b[0m     \u001b[0;32mfor\u001b[0m \u001b[0mi\u001b[0m \u001b[0;32min\u001b[0m \u001b[0mrange\u001b[0m\u001b[0;34m(\u001b[0m\u001b[0mnum_iters\u001b[0m\u001b[0;34m)\u001b[0m\u001b[0;34m:\u001b[0m\u001b[0;34m\u001b[0m\u001b[0;34m\u001b[0m\u001b[0m\n\u001b[0;32m---> 11\u001b[0;31m         \u001b[0mh\u001b[0m \u001b[0;34m=\u001b[0m \u001b[0msigmoid\u001b[0m\u001b[0;34m(\u001b[0m\u001b[0mX\u001b[0m\u001b[0;34m.\u001b[0m\u001b[0mdot\u001b[0m\u001b[0;34m(\u001b[0m\u001b[0mtheta\u001b[0m\u001b[0;34m.\u001b[0m\u001b[0mT\u001b[0m\u001b[0;34m)\u001b[0m\u001b[0;34m)\u001b[0m\u001b[0;34m\u001b[0m\u001b[0;34m\u001b[0m\u001b[0m\n\u001b[0m\u001b[1;32m     12\u001b[0m         \u001b[0mtheta\u001b[0m \u001b[0;34m=\u001b[0m \u001b[0mtheta\u001b[0m \u001b[0;34m-\u001b[0m \u001b[0;34m(\u001b[0m\u001b[0malpha\u001b[0m \u001b[0;34m/\u001b[0m \u001b[0mm\u001b[0m\u001b[0;34m)\u001b[0m \u001b[0;34m*\u001b[0m \u001b[0;34m(\u001b[0m\u001b[0mh\u001b[0m \u001b[0;34m-\u001b[0m \u001b[0my\u001b[0m\u001b[0;34m)\u001b[0m\u001b[0;34m.\u001b[0m\u001b[0mdot\u001b[0m\u001b[0;34m(\u001b[0m\u001b[0mX\u001b[0m\u001b[0;34m)\u001b[0m\u001b[0;34m\u001b[0m\u001b[0;34m\u001b[0m\u001b[0m\n\u001b[1;32m     13\u001b[0m \u001b[0;34m\u001b[0m\u001b[0m\n",
            "\u001b[0;31mKeyboardInterrupt\u001b[0m: "
          ]
        }
      ],
      "source": [
        "# Elegir algun valor para alpha (probar varias alternativas)\n",
        "alpha = 0.003\n",
        "num_iters = 5000\n",
        "\n",
        "# inicializa theta y ejecuta el descenso por el gradiente\n",
        "theta = np.zeros(17)\n",
        "theta, J_history = descensoGradiente(theta, X_train, y_label0_train, alpha, num_iters)\n",
        "\n",
        "# Grafica la convergencia del costo\n",
        "pyplot.plot(np.arange(len(J_history)), J_history, lw=2)\n",
        "pyplot.xlabel('Numero de iteraciones')\n",
        "pyplot.ylabel('Costo J')\n",
        "\n",
        "# Muestra los resultados del descenso por el gradiente\n",
        "print('theta calculado por el descenso por el gradiente: {:s}'.format(str(theta)))\n",
        "\n",
        "\n",
        "#print('Un estudiante con nota del examen 1: 80 y nota del examen 2: 46 (usando el descenso por el gradiente):{:.0f}'.format(aprueba))"
      ]
    }
  ]
}