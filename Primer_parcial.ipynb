{
  "nbformat": 4,
  "nbformat_minor": 0,
  "metadata": {
    "colab": {
      "provenance": [],
      "authorship_tag": "ABX9TyP4KROg4zFEGPRgQVQZmqqK",
      "include_colab_link": true
    },
    "kernelspec": {
      "name": "python3",
      "display_name": "Python 3"
    },
    "language_info": {
      "name": "python"
    }
  },
  "cells": [
    {
      "cell_type": "markdown",
      "metadata": {
        "id": "view-in-github",
        "colab_type": "text"
      },
      "source": [
        "<a href=\"https://colab.research.google.com/github/diegoOrd123/Examen-Primer-parcial/blob/main/Primer_parcial.ipynb\" target=\"_parent\"><img src=\"https://colab.research.google.com/assets/colab-badge.svg\" alt=\"Open In Colab\"/></a>"
      ]
    },
    {
      "cell_type": "code",
      "execution_count": 5,
      "metadata": {
        "colab": {
          "base_uri": "https://localhost:8080/"
        },
        "id": "jVbwIyZXBxy-",
        "outputId": "d69a7a88-aab8-492b-ce07-15ceeed00b9e"
      },
      "outputs": [
        {
          "output_type": "stream",
          "name": "stdout",
          "text": [
            "Drive already mounted at /content/drive; to attempt to forcibly remount, call drive.mount(\"/content/drive\", force_remount=True).\n"
          ]
        }
      ],
      "source": [
        "from google.colab import drive\n",
        "drive.mount('/content/drive')"
      ]
    },
    {
      "cell_type": "markdown",
      "source": [
        "Importamos las librerias necesarias"
      ],
      "metadata": {
        "id": "cTVm2zBlFW9J"
      }
    },
    {
      "cell_type": "code",
      "source": [
        "import os\n",
        "import numpy as np\n",
        "import pandas as pd\n",
        "from matplotlib import pyplot\n",
        "import matplotlib.pyplot as plt"
      ],
      "metadata": {
        "id": "RmqiEbZNFUWB"
      },
      "execution_count": 6,
      "outputs": []
    },
    {
      "cell_type": "code",
      "source": [
        "input_layer_size  = 14\n",
        "num_labels = 5\n",
        "data = pd.read_csv('/content/drive/MyDrive/Dataset/Base.csv', delimiter=';')\n",
        "print(data.shape)\n",
        "\n",
        "data.info()"
      ],
      "metadata": {
        "colab": {
          "base_uri": "https://localhost:8080/"
        },
        "id": "AtF0PlnRFzRf",
        "outputId": "4c68aabb-d180-4ca7-a89e-cf74b0433418"
      },
      "execution_count": 7,
      "outputs": [
        {
          "output_type": "stream",
          "name": "stdout",
          "text": [
            "(1000000, 14)\n",
            "<class 'pandas.core.frame.DataFrame'>\n",
            "RangeIndex: 1000000 entries, 0 to 999999\n",
            "Data columns (total 14 columns):\n",
            " #   Column                        Non-Null Count    Dtype  \n",
            "---  ------                        --------------    -----  \n",
            " 0   income                        1000000 non-null  float64\n",
            " 1   name_email_similarity         1000000 non-null  float64\n",
            " 2   prev_address_months_count     1000000 non-null  int64  \n",
            " 3   current_address_months_count  1000000 non-null  int64  \n",
            " 4   customer_age                  1000000 non-null  int64  \n",
            " 5   intended_balcon_amount        1000000 non-null  float64\n",
            " 6   zip_count_4w                  1000000 non-null  int64  \n",
            " 7   velocity_6h                   1000000 non-null  float64\n",
            " 8   velocity_24h                  1000000 non-null  float64\n",
            " 9   velocity_4w                   1000000 non-null  float64\n",
            " 10  credit_risk_score             1000000 non-null  int64  \n",
            " 11  bank_months_count             1000000 non-null  int64  \n",
            " 12  proposed_credit_limit         1000000 non-null  int64  \n",
            " 13  payment_type                  1000000 non-null  object \n",
            "dtypes: float64(6), int64(7), object(1)\n",
            "memory usage: 106.8+ MB\n"
          ]
        }
      ]
    },
    {
      "cell_type": "code",
      "source": [
        "\n",
        "\n",
        "def generate_synthetic_data_with_perturbations(num_samples, real_data):\n",
        "    synthetic_data = {}\n",
        "\n",
        "    # Definir un rango de perturbaciones\n",
        "    perturbation_scale = 0.1\n",
        "\n",
        "    for col in real_data.columns:\n",
        "        if real_data[col].dtype in [np.float64, np.int64]:\n",
        "            unique_values = real_data[col].values\n",
        "\n",
        "            # Generar datos sintéticos\n",
        "            base_values = np.random.choice(unique_values, size=num_samples)\n",
        "            perturbations = base_values * np.random.uniform(-perturbation_scale, perturbation_scale, size=num_samples)\n",
        "            synthetic_data[col] = base_values + perturbations\n",
        "\n",
        "        elif real_data[col].dtype == object:\n",
        "            # Para columnas categóricas\n",
        "            synthetic_data[col] = np.random.choice(real_data[col].unique(), size=num_samples)\n",
        "\n",
        "    return pd.DataFrame(synthetic_data)\n",
        "\n",
        "\n",
        "\n",
        "syntheticData = generate_synthetic_data_with_perturbations(1000000, data)\n",
        "\n",
        "# Concatenar con el DataFrame original\n",
        "combinedData = pd.concat([data, syntheticData], ignore_index=True)\n",
        "\n",
        "print(combinedData.shape)"
      ],
      "metadata": {
        "colab": {
          "base_uri": "https://localhost:8080/"
        },
        "id": "xBS8eJIwtYmg",
        "outputId": "78992707-6763-4877-eaf0-2e18b470a0ca"
      },
      "execution_count": 8,
      "outputs": [
        {
          "output_type": "stream",
          "name": "stdout",
          "text": [
            "(2000000, 14)\n"
          ]
        }
      ]
    },
    {
      "cell_type": "code",
      "source": [
        "y = combinedData.iloc[:, -1]\n",
        "print(y)\n",
        "mapping = {'AB': 0, 'AA': 1, 'AC': 2, 'AE': 3, 'AD': 4}\n",
        "def convert_column_to_numeric(data, mapping):\n",
        "    vectorized_map = np.vectorize(mapping.get)\n",
        "    numeric_data = vectorized_map(data)\n",
        "    return numeric_data\n",
        "numeric_data = convert_column_to_numeric(y, mapping)\n",
        "y = numeric_data\n",
        "print(y)"
      ],
      "metadata": {
        "colab": {
          "base_uri": "https://localhost:8080/"
        },
        "id": "hD_4EprzLuRe",
        "outputId": "410ed45c-4740-44b3-b05a-3f9e6f3ae435"
      },
      "execution_count": 9,
      "outputs": [
        {
          "output_type": "stream",
          "name": "stdout",
          "text": [
            "0          AA\n",
            "1          AD\n",
            "2          AB\n",
            "3          AB\n",
            "4          AA\n",
            "           ..\n",
            "1999995    AA\n",
            "1999996    AA\n",
            "1999997    AD\n",
            "1999998    AB\n",
            "1999999    AD\n",
            "Name: payment_type, Length: 2000000, dtype: object\n",
            "[1 4 0 ... 4 0 4]\n"
          ]
        }
      ]
    },
    {
      "cell_type": "code",
      "source": [
        "X=combinedData.iloc[:,:-1]\n",
        "print(X.shape)\n",
        "def income_group(income):\n",
        "    if income < 3:\n",
        "        return 'Low'\n",
        "    elif 3 <= income < 7:\n",
        "        return 'Medium'\n",
        "    else:\n",
        "        return 'High'\n",
        "X['income_level'] = X['income'].apply(income_group)\n",
        "print(X.shape)\n",
        "print(X)"
      ],
      "metadata": {
        "colab": {
          "base_uri": "https://localhost:8080/"
        },
        "id": "N4JAvCoLOzm-",
        "outputId": "59e6fb6f-daf8-453c-fad8-1c9fedf8e77f"
      },
      "execution_count": 10,
      "outputs": [
        {
          "output_type": "stream",
          "name": "stdout",
          "text": [
            "(2000000, 13)\n",
            "(2000000, 14)\n",
            "               income  name_email_similarity  prev_address_months_count  \\\n",
            "0        3.000000e+00           9.865060e+14                  -1.000000   \n",
            "1        8.000000e+00           6.174260e+15                  -1.000000   \n",
            "2        8.000000e+00           9.967070e+15                   9.000000   \n",
            "3        6.000000e+15           4.751000e+15                  11.000000   \n",
            "4        9.000000e+00           8.423070e+15                  -1.000000   \n",
            "...               ...                    ...                        ...   \n",
            "1999995  9.512681e-01           3.968726e+15                  -0.979060   \n",
            "1999996  7.489293e+00           2.561653e+15                  -1.076454   \n",
            "1999997  4.503821e+00           5.469403e+14                  55.964299   \n",
            "1999998  8.359798e+00           3.329818e+14                  82.236176   \n",
            "1999999  7.347663e+15           8.091540e+15                  47.720595   \n",
            "\n",
            "         current_address_months_count  customer_age  intended_balcon_amount  \\\n",
            "0                           25.000000     40.000000            1.024540e+16   \n",
            "1                           89.000000     20.000000           -8.495510e+15   \n",
            "2                           14.000000     40.000000           -1.490390e+16   \n",
            "3                           14.000000     30.000000           -1.863100e+16   \n",
            "4                           29.000000     40.000000            4.715250e+16   \n",
            "...                               ...           ...                     ...   \n",
            "1999995                    113.123369     29.834606           -8.452446e+15   \n",
            "1999996                     39.146123     41.571678           -1.463718e+16   \n",
            "1999997                      2.098355     31.451608           -1.595411e+16   \n",
            "1999998                      0.000000     32.440273           -1.390404e+16   \n",
            "1999999                    117.663987     21.449122           -8.884065e+15   \n",
            "\n",
            "         zip_count_4w   velocity_6h  velocity_24h   velocity_4w  \\\n",
            "0         1059.000000  1.309600e+16  7.850960e+15  6.742080e+15   \n",
            "1         1658.000000  9.223280e+15  5.745250e+15  5.941660e+16   \n",
            "2         1095.000000  4.471470e+15  5.471990e+15  5.992560e+15   \n",
            "3         3483.000000  1.443200e+16  6.755340e+14  5.970340e+15   \n",
            "4         2339.000000  7.601510e+15  5.124050e+15  5.940730e+15   \n",
            "...               ...           ...           ...           ...   \n",
            "1999995   1645.377254  1.027460e+15  3.075471e+16  2.910234e+15   \n",
            "1999996   1360.713024  3.281189e+15  5.149343e+15  4.660848e+13   \n",
            "1999997    842.432343  3.650470e+16  6.434841e+15  6.506184e+14   \n",
            "1999998   2711.032867  5.246819e+15  2.957636e+15  4.947041e+15   \n",
            "1999999   1727.727583  6.066647e+15  3.357349e+15  6.366996e+15   \n",
            "\n",
            "         credit_risk_score  bank_months_count  proposed_credit_limit  \\\n",
            "0               163.000000           9.000000           15000.000000   \n",
            "1               154.000000           2.000000           15000.000000   \n",
            "2                89.000000          30.000000            2000.000000   \n",
            "3                90.000000           1.000000            2000.000000   \n",
            "4                91.000000          26.000000            2000.000000   \n",
            "...                    ...                ...                    ...   \n",
            "1999995         154.714533          18.433151            9532.669466   \n",
            "1999996         124.438944           8.711304           16464.000400   \n",
            "1999997         162.458458          29.721786           15180.387562   \n",
            "1999998         194.629739          20.175568            1904.807556   \n",
            "1999999          84.212567           0.933200            2194.471641   \n",
            "\n",
            "        income_level  \n",
            "0             Medium  \n",
            "1               High  \n",
            "2               High  \n",
            "3               High  \n",
            "4               High  \n",
            "...              ...  \n",
            "1999995          Low  \n",
            "1999996         High  \n",
            "1999997       Medium  \n",
            "1999998         High  \n",
            "1999999         High  \n",
            "\n",
            "[2000000 rows x 14 columns]\n"
          ]
        }
      ]
    },
    {
      "cell_type": "code",
      "source": [
        "X['has_long_stable_address'] = (\n",
        "    (X['prev_address_months_count'] >= 52) |\n",
        "    (X['current_address_months_count'] >= 52)\n",
        ").astype(int)\n",
        "print(X.shape)\n",
        "print(X)"
      ],
      "metadata": {
        "colab": {
          "base_uri": "https://localhost:8080/"
        },
        "id": "Hf06xVWJS5y0",
        "outputId": "73b4cab7-5bb8-4e48-f1d3-4955d673cbc7"
      },
      "execution_count": 11,
      "outputs": [
        {
          "output_type": "stream",
          "name": "stdout",
          "text": [
            "(2000000, 15)\n",
            "               income  name_email_similarity  prev_address_months_count  \\\n",
            "0        3.000000e+00           9.865060e+14                  -1.000000   \n",
            "1        8.000000e+00           6.174260e+15                  -1.000000   \n",
            "2        8.000000e+00           9.967070e+15                   9.000000   \n",
            "3        6.000000e+15           4.751000e+15                  11.000000   \n",
            "4        9.000000e+00           8.423070e+15                  -1.000000   \n",
            "...               ...                    ...                        ...   \n",
            "1999995  9.512681e-01           3.968726e+15                  -0.979060   \n",
            "1999996  7.489293e+00           2.561653e+15                  -1.076454   \n",
            "1999997  4.503821e+00           5.469403e+14                  55.964299   \n",
            "1999998  8.359798e+00           3.329818e+14                  82.236176   \n",
            "1999999  7.347663e+15           8.091540e+15                  47.720595   \n",
            "\n",
            "         current_address_months_count  customer_age  intended_balcon_amount  \\\n",
            "0                           25.000000     40.000000            1.024540e+16   \n",
            "1                           89.000000     20.000000           -8.495510e+15   \n",
            "2                           14.000000     40.000000           -1.490390e+16   \n",
            "3                           14.000000     30.000000           -1.863100e+16   \n",
            "4                           29.000000     40.000000            4.715250e+16   \n",
            "...                               ...           ...                     ...   \n",
            "1999995                    113.123369     29.834606           -8.452446e+15   \n",
            "1999996                     39.146123     41.571678           -1.463718e+16   \n",
            "1999997                      2.098355     31.451608           -1.595411e+16   \n",
            "1999998                      0.000000     32.440273           -1.390404e+16   \n",
            "1999999                    117.663987     21.449122           -8.884065e+15   \n",
            "\n",
            "         zip_count_4w   velocity_6h  velocity_24h   velocity_4w  \\\n",
            "0         1059.000000  1.309600e+16  7.850960e+15  6.742080e+15   \n",
            "1         1658.000000  9.223280e+15  5.745250e+15  5.941660e+16   \n",
            "2         1095.000000  4.471470e+15  5.471990e+15  5.992560e+15   \n",
            "3         3483.000000  1.443200e+16  6.755340e+14  5.970340e+15   \n",
            "4         2339.000000  7.601510e+15  5.124050e+15  5.940730e+15   \n",
            "...               ...           ...           ...           ...   \n",
            "1999995   1645.377254  1.027460e+15  3.075471e+16  2.910234e+15   \n",
            "1999996   1360.713024  3.281189e+15  5.149343e+15  4.660848e+13   \n",
            "1999997    842.432343  3.650470e+16  6.434841e+15  6.506184e+14   \n",
            "1999998   2711.032867  5.246819e+15  2.957636e+15  4.947041e+15   \n",
            "1999999   1727.727583  6.066647e+15  3.357349e+15  6.366996e+15   \n",
            "\n",
            "         credit_risk_score  bank_months_count  proposed_credit_limit  \\\n",
            "0               163.000000           9.000000           15000.000000   \n",
            "1               154.000000           2.000000           15000.000000   \n",
            "2                89.000000          30.000000            2000.000000   \n",
            "3                90.000000           1.000000            2000.000000   \n",
            "4                91.000000          26.000000            2000.000000   \n",
            "...                    ...                ...                    ...   \n",
            "1999995         154.714533          18.433151            9532.669466   \n",
            "1999996         124.438944           8.711304           16464.000400   \n",
            "1999997         162.458458          29.721786           15180.387562   \n",
            "1999998         194.629739          20.175568            1904.807556   \n",
            "1999999          84.212567           0.933200            2194.471641   \n",
            "\n",
            "        income_level  has_long_stable_address  \n",
            "0             Medium                        0  \n",
            "1               High                        1  \n",
            "2               High                        0  \n",
            "3               High                        0  \n",
            "4               High                        0  \n",
            "...              ...                      ...  \n",
            "1999995          Low                        1  \n",
            "1999996         High                        0  \n",
            "1999997       Medium                        1  \n",
            "1999998         High                        1  \n",
            "1999999         High                        1  \n",
            "\n",
            "[2000000 rows x 15 columns]\n"
          ]
        }
      ]
    },
    {
      "cell_type": "code",
      "source": [
        "def risk_group(credit_risk_score):\n",
        "    if credit_risk_score <= 83:\n",
        "        return 'Low'\n",
        "    elif 83 < credit_risk_score <= 122:\n",
        "        return 'Medium'\n",
        "    elif 122 < credit_risk_score <= 178:\n",
        "        return 'High'\n",
        "    else:\n",
        "        return 'Very High'\n",
        "X['risk_category'] = X['credit_risk_score'].apply(risk_group)\n",
        "print(X.shape)\n",
        "print(X)"
      ],
      "metadata": {
        "colab": {
          "base_uri": "https://localhost:8080/"
        },
        "id": "8nxcuLcrVvaR",
        "outputId": "f1aa8999-4ff9-4c06-8d9e-6d34c5152169"
      },
      "execution_count": 12,
      "outputs": [
        {
          "output_type": "stream",
          "name": "stdout",
          "text": [
            "(2000000, 16)\n",
            "               income  name_email_similarity  prev_address_months_count  \\\n",
            "0        3.000000e+00           9.865060e+14                  -1.000000   \n",
            "1        8.000000e+00           6.174260e+15                  -1.000000   \n",
            "2        8.000000e+00           9.967070e+15                   9.000000   \n",
            "3        6.000000e+15           4.751000e+15                  11.000000   \n",
            "4        9.000000e+00           8.423070e+15                  -1.000000   \n",
            "...               ...                    ...                        ...   \n",
            "1999995  9.512681e-01           3.968726e+15                  -0.979060   \n",
            "1999996  7.489293e+00           2.561653e+15                  -1.076454   \n",
            "1999997  4.503821e+00           5.469403e+14                  55.964299   \n",
            "1999998  8.359798e+00           3.329818e+14                  82.236176   \n",
            "1999999  7.347663e+15           8.091540e+15                  47.720595   \n",
            "\n",
            "         current_address_months_count  customer_age  intended_balcon_amount  \\\n",
            "0                           25.000000     40.000000            1.024540e+16   \n",
            "1                           89.000000     20.000000           -8.495510e+15   \n",
            "2                           14.000000     40.000000           -1.490390e+16   \n",
            "3                           14.000000     30.000000           -1.863100e+16   \n",
            "4                           29.000000     40.000000            4.715250e+16   \n",
            "...                               ...           ...                     ...   \n",
            "1999995                    113.123369     29.834606           -8.452446e+15   \n",
            "1999996                     39.146123     41.571678           -1.463718e+16   \n",
            "1999997                      2.098355     31.451608           -1.595411e+16   \n",
            "1999998                      0.000000     32.440273           -1.390404e+16   \n",
            "1999999                    117.663987     21.449122           -8.884065e+15   \n",
            "\n",
            "         zip_count_4w   velocity_6h  velocity_24h   velocity_4w  \\\n",
            "0         1059.000000  1.309600e+16  7.850960e+15  6.742080e+15   \n",
            "1         1658.000000  9.223280e+15  5.745250e+15  5.941660e+16   \n",
            "2         1095.000000  4.471470e+15  5.471990e+15  5.992560e+15   \n",
            "3         3483.000000  1.443200e+16  6.755340e+14  5.970340e+15   \n",
            "4         2339.000000  7.601510e+15  5.124050e+15  5.940730e+15   \n",
            "...               ...           ...           ...           ...   \n",
            "1999995   1645.377254  1.027460e+15  3.075471e+16  2.910234e+15   \n",
            "1999996   1360.713024  3.281189e+15  5.149343e+15  4.660848e+13   \n",
            "1999997    842.432343  3.650470e+16  6.434841e+15  6.506184e+14   \n",
            "1999998   2711.032867  5.246819e+15  2.957636e+15  4.947041e+15   \n",
            "1999999   1727.727583  6.066647e+15  3.357349e+15  6.366996e+15   \n",
            "\n",
            "         credit_risk_score  bank_months_count  proposed_credit_limit  \\\n",
            "0               163.000000           9.000000           15000.000000   \n",
            "1               154.000000           2.000000           15000.000000   \n",
            "2                89.000000          30.000000            2000.000000   \n",
            "3                90.000000           1.000000            2000.000000   \n",
            "4                91.000000          26.000000            2000.000000   \n",
            "...                    ...                ...                    ...   \n",
            "1999995         154.714533          18.433151            9532.669466   \n",
            "1999996         124.438944           8.711304           16464.000400   \n",
            "1999997         162.458458          29.721786           15180.387562   \n",
            "1999998         194.629739          20.175568            1904.807556   \n",
            "1999999          84.212567           0.933200            2194.471641   \n",
            "\n",
            "        income_level  has_long_stable_address risk_category  \n",
            "0             Medium                        0          High  \n",
            "1               High                        1          High  \n",
            "2               High                        0        Medium  \n",
            "3               High                        0        Medium  \n",
            "4               High                        0        Medium  \n",
            "...              ...                      ...           ...  \n",
            "1999995          Low                        1          High  \n",
            "1999996         High                        0          High  \n",
            "1999997       Medium                        1          High  \n",
            "1999998         High                        1     Very High  \n",
            "1999999         High                        1        Medium  \n",
            "\n",
            "[2000000 rows x 16 columns]\n"
          ]
        }
      ]
    },
    {
      "cell_type": "code",
      "source": [
        "plt.figure(figsize=(12, 6))\n",
        "\n",
        "# Gráfico para 'income'\n",
        "plt.subplot(1, 2, 1)\n",
        "plt.hist(data['income'], bins=30, alpha=0.5, label='Real', color='blue')\n",
        "plt.hist(syntheticData['income'], bins=30, alpha=0.5, label='Sintético', color='orange')\n",
        "plt.title('Distribución de Income')\n",
        "plt.xlabel('Income')\n",
        "plt.ylabel('Frecuencia')\n",
        "plt.legend()\n",
        "\n",
        "# Gráfico para 'credit_risk_score'\n",
        "plt.subplot(1, 2, 2)\n",
        "plt.hist(data['credit_risk_score'], bins=30, alpha=0.5, label='Real', color='blue')\n",
        "plt.hist(syntheticData['credit_risk_score'], bins=30, alpha=0.5, label='Sintético', color='orange')\n",
        "plt.title('Distribución de Credit Risk Score')\n",
        "plt.xlabel('Credit Risk Score')\n",
        "plt.ylabel('Frecuencia')\n",
        "plt.legend()\n",
        "\n",
        "# Mostrar gráficos\n",
        "plt.tight_layout()\n",
        "plt.show()"
      ],
      "metadata": {
        "colab": {
          "base_uri": "https://localhost:8080/",
          "height": 404
        },
        "id": "qZO89xU2ug3W",
        "outputId": "ad5f08c5-ab63-47cf-b7e8-092514294fd7"
      },
      "execution_count": 13,
      "outputs": [
        {
          "output_type": "display_data",
          "data": {
            "text/plain": [
              "<Figure size 1200x600 with 2 Axes>"
            ],
            "image/png": "[encoded data removed]"
          },
          "metadata": {}
        }
      ]
    },
    {
      "cell_type": "code",
      "source": [],
      "metadata": {
        "id": "9CXh4NUx3LLv"
      },
      "execution_count": null,
      "outputs": []
    }
  ]
}