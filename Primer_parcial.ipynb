{
  "nbformat": 4,
  "nbformat_minor": 0,
  "metadata": {
    "colab": {
      "provenance": [],
      "authorship_tag": "ABX9TyPsCrBf1LM2e3XhvopL8BRN",
      "include_colab_link": true
    },
    "kernelspec": {
      "name": "python3",
      "display_name": "Python 3"
    },
    "language_info": {
      "name": "python"
    }
  },
  "cells": [
    {
      "cell_type": "markdown",
      "metadata": {
        "id": "view-in-github",
        "colab_type": "text"
      },
      "source": [
        "<a href=\"https://colab.research.google.com/github/diegoOrd123/Examen-Primer-parcial/blob/main/Primer_parcial.ipynb\" target=\"_parent\"><img src=\"https://colab.research.google.com/assets/colab-badge.svg\" alt=\"Open In Colab\"/></a>"
      ]
    },
    {
      "cell_type": "code",
      "execution_count": 1,
      "metadata": {
        "colab": {
          "base_uri": "https://localhost:8080/"
        },
        "id": "jVbwIyZXBxy-",
        "outputId": "5b03ef5c-c269-4a88-a804-12a97e741dc9"
      },
      "outputs": [
        {
          "output_type": "stream",
          "name": "stdout",
          "text": [
            "Mounted at /content/drive\n"
          ]
        }
      ],
      "source": [
        "from google.colab import drive\n",
        "drive.mount('/content/drive')"
      ]
    },
    {
      "cell_type": "markdown",
      "source": [
        "Importamos las librerias necesarias"
      ],
      "metadata": {
        "id": "cTVm2zBlFW9J"
      }
    },
    {
      "cell_type": "code",
      "source": [
        "import os\n",
        "import numpy as np\n",
        "import pandas as pd\n",
        "from matplotlib import pyplot\n",
        "import matplotlib.pyplot as plt"
      ],
      "metadata": {
        "id": "RmqiEbZNFUWB"
      },
      "execution_count": 2,
      "outputs": []
    },
    {
      "cell_type": "code",
      "source": [
        "input_layer_size  = 14\n",
        "num_labels = 5\n",
        "data = pd.read_csv('/content/drive/MyDrive/Dataset/Base.csv', delimiter=';')\n",
        "print(data.shape)\n",
        "\n",
        "data.info()"
      ],
      "metadata": {
        "colab": {
          "base_uri": "https://localhost:8080/"
        },
        "id": "AtF0PlnRFzRf",
        "outputId": "c5a130dc-307f-47d2-f71a-72c6b11ba26e"
      },
      "execution_count": 3,
      "outputs": [
        {
          "output_type": "stream",
          "name": "stdout",
          "text": [
            "(1000000, 14)\n",
            "<class 'pandas.core.frame.DataFrame'>\n",
            "RangeIndex: 1000000 entries, 0 to 999999\n",
            "Data columns (total 14 columns):\n",
            " #   Column                        Non-Null Count    Dtype  \n",
            "---  ------                        --------------    -----  \n",
            " 0   income                        1000000 non-null  float64\n",
            " 1   name_email_similarity         1000000 non-null  float64\n",
            " 2   prev_address_months_count     1000000 non-null  int64  \n",
            " 3   current_address_months_count  1000000 non-null  int64  \n",
            " 4   customer_age                  1000000 non-null  int64  \n",
            " 5   intended_balcon_amount        1000000 non-null  float64\n",
            " 6   zip_count_4w                  1000000 non-null  int64  \n",
            " 7   velocity_6h                   1000000 non-null  float64\n",
            " 8   velocity_24h                  1000000 non-null  float64\n",
            " 9   velocity_4w                   1000000 non-null  float64\n",
            " 10  credit_risk_score             1000000 non-null  int64  \n",
            " 11  bank_months_count             1000000 non-null  int64  \n",
            " 12  proposed_credit_limit         1000000 non-null  int64  \n",
            " 13  payment_type                  1000000 non-null  object \n",
            "dtypes: float64(6), int64(7), object(1)\n",
            "memory usage: 106.8+ MB\n"
          ]
        }
      ]
    },
    {
      "cell_type": "code",
      "source": [
        "\n",
        "\n",
        "def generate_synthetic_data_with_perturbations(num_samples, real_data):\n",
        "    synthetic_data = {}\n",
        "\n",
        "    # Definir un rango de perturbaciones\n",
        "    perturbation_scale = 0.1\n",
        "\n",
        "    for col in real_data.columns:\n",
        "        if real_data[col].dtype in [np.float64, np.int64]:\n",
        "            unique_values = real_data[col].values\n",
        "\n",
        "            # Generar datos sintéticos\n",
        "            base_values = np.random.choice(unique_values, size=num_samples)\n",
        "            perturbations = base_values * np.random.uniform(-perturbation_scale, perturbation_scale, size=num_samples)\n",
        "            synthetic_data[col] = base_values + perturbations\n",
        "\n",
        "        elif real_data[col].dtype == object:\n",
        "            # Para columnas categóricas\n",
        "            synthetic_data[col] = np.random.choice(real_data[col].unique(), size=num_samples)\n",
        "\n",
        "    return pd.DataFrame(synthetic_data)\n",
        "\n",
        "\n",
        "\n",
        "syntheticData = generate_synthetic_data_with_perturbations(1000000, data)\n",
        "\n",
        "# Concatenar con el DataFrame original\n",
        "combinedData = pd.concat([data, syntheticData], ignore_index=True)\n",
        "\n",
        "print(combinedData.shape)"
      ],
      "metadata": {
        "colab": {
          "base_uri": "https://localhost:8080/"
        },
        "id": "xBS8eJIwtYmg",
        "outputId": "b00a5231-c07a-4a9b-ecdc-2246c41332b4"
      },
      "execution_count": 4,
      "outputs": [
        {
          "output_type": "stream",
          "name": "stdout",
          "text": [
            "(2000000, 14)\n"
          ]
        }
      ]
    },
    {
      "cell_type": "code",
      "source": [
        "y = combinedData.iloc[:, -1]\n",
        "print(y)\n",
        "mapping = {'AB': 0, 'AA': 1, 'AC': 2, 'AE': 3, 'AD': 4}\n",
        "def convert_column_to_numeric(data, mapping):\n",
        "    vectorized_map = np.vectorize(mapping.get)\n",
        "    numeric_data = vectorized_map(data)\n",
        "    return numeric_data\n",
        "numeric_data = convert_column_to_numeric(y, mapping)\n",
        "y = numeric_data\n",
        "print(y)"
      ],
      "metadata": {
        "colab": {
          "base_uri": "https://localhost:8080/"
        },
        "id": "hD_4EprzLuRe",
        "outputId": "a440f281-9258-428d-822c-457134200b14"
      },
      "execution_count": 5,
      "outputs": [
        {
          "output_type": "stream",
          "name": "stdout",
          "text": [
            "0          AA\n",
            "1          AD\n",
            "2          AB\n",
            "3          AB\n",
            "4          AA\n",
            "           ..\n",
            "1999995    AB\n",
            "1999996    AA\n",
            "1999997    AE\n",
            "1999998    AB\n",
            "1999999    AB\n",
            "Name: payment_type, Length: 2000000, dtype: object\n",
            "[1 4 0 ... 3 0 0]\n"
          ]
        }
      ]
    },
    {
      "cell_type": "code",
      "source": [
        "X=combinedData.iloc[:,:-1]\n",
        "print(X.shape)\n",
        "def income_group(income):\n",
        "    if income < 3:\n",
        "        return 'Low'\n",
        "    elif 3 <= income < 7:\n",
        "        return 'Medium'\n",
        "    else:\n",
        "        return 'High'\n",
        "X['income_level'] = X['income'].apply(income_group)\n",
        "print(X.shape)\n",
        "print(X)"
      ],
      "metadata": {
        "colab": {
          "base_uri": "https://localhost:8080/"
        },
        "id": "N4JAvCoLOzm-",
        "outputId": "d2da03c4-644f-4ffc-916e-7d4682f9d6cf"
      },
      "execution_count": 6,
      "outputs": [
        {
          "output_type": "stream",
          "name": "stdout",
          "text": [
            "(2000000, 13)\n",
            "(2000000, 14)\n",
            "               income  name_email_similarity  prev_address_months_count  \\\n",
            "0        3.000000e+00           9.865060e+14                  -1.000000   \n",
            "1        8.000000e+00           6.174260e+15                  -1.000000   \n",
            "2        8.000000e+00           9.967070e+15                   9.000000   \n",
            "3        6.000000e+15           4.751000e+15                  11.000000   \n",
            "4        9.000000e+00           8.423070e+15                  -1.000000   \n",
            "...               ...                    ...                        ...   \n",
            "1999995  5.452902e+15           1.525248e+15                  -0.954800   \n",
            "1999996  8.596324e+00           4.589241e+15                  -1.073583   \n",
            "1999997  7.168099e+15           3.718091e+15                  -0.956614   \n",
            "1999998  2.843506e+00           7.728362e+15                  -0.929376   \n",
            "1999999  7.604578e+00           8.651583e+14                  32.510208   \n",
            "\n",
            "         current_address_months_count  customer_age  intended_balcon_amount  \\\n",
            "0                           25.000000     40.000000            1.024540e+16   \n",
            "1                           89.000000     20.000000           -8.495510e+15   \n",
            "2                           14.000000     40.000000           -1.490390e+16   \n",
            "3                           14.000000     30.000000           -1.863100e+16   \n",
            "4                           29.000000     40.000000            4.715250e+16   \n",
            "...                               ...           ...                     ...   \n",
            "1999995                      5.238817     29.100249           -7.445229e+15   \n",
            "1999996                     32.651627     19.316264           -7.184298e+15   \n",
            "1999997                     71.187968     29.229745           -6.237487e+15   \n",
            "1999998                    141.666200     64.171124           -8.941974e+15   \n",
            "1999999                    126.440991     30.261484           -8.347727e+15   \n",
            "\n",
            "         zip_count_4w   velocity_6h  velocity_24h   velocity_4w  \\\n",
            "0         1059.000000  1.309600e+16  7.850960e+15  6.742080e+15   \n",
            "1         1658.000000  9.223280e+15  5.745250e+15  5.941660e+16   \n",
            "2         1095.000000  4.471470e+15  5.471990e+15  5.992560e+15   \n",
            "3         3483.000000  1.443200e+16  6.755340e+14  5.970340e+15   \n",
            "4         2339.000000  7.601510e+15  5.124050e+15  5.940730e+15   \n",
            "...               ...           ...           ...           ...   \n",
            "1999995    884.081175  6.978166e+15  6.353216e+15  4.423749e+15   \n",
            "1999996   4190.497874  8.468057e+15  3.078654e+15  6.331031e+15   \n",
            "1999997   1258.115044  8.364283e+15  3.096347e+15  5.483288e+15   \n",
            "1999998   1035.649845  2.568778e+16  2.271864e+16  3.977777e+15   \n",
            "1999999   1693.890791  4.671170e+14  2.697474e+15  6.361326e+15   \n",
            "\n",
            "         credit_risk_score  bank_months_count  proposed_credit_limit  \\\n",
            "0               163.000000           9.000000           15000.000000   \n",
            "1               154.000000           2.000000           15000.000000   \n",
            "2                89.000000          30.000000            2000.000000   \n",
            "3                90.000000           1.000000            2000.000000   \n",
            "4                91.000000          26.000000            2000.000000   \n",
            "...                    ...                ...                    ...   \n",
            "1999995         171.721018          28.162869           15655.615098   \n",
            "1999996         100.731934           1.858989            1944.464995   \n",
            "1999997         241.987628          10.488249            4979.245742   \n",
            "1999998          76.788599          -0.966508           14168.889811   \n",
            "1999999          67.292537          -0.995904            2033.088263   \n",
            "\n",
            "        income_level  \n",
            "0             Medium  \n",
            "1               High  \n",
            "2               High  \n",
            "3               High  \n",
            "4               High  \n",
            "...              ...  \n",
            "1999995         High  \n",
            "1999996         High  \n",
            "1999997         High  \n",
            "1999998          Low  \n",
            "1999999         High  \n",
            "\n",
            "[2000000 rows x 14 columns]\n"
          ]
        }
      ]
    },
    {
      "cell_type": "code",
      "source": [
        "X['has_long_stable_address'] = (\n",
        "    (X['prev_address_months_count'] >= 52) |\n",
        "    (X['current_address_months_count'] >= 52)\n",
        ").astype(int)\n",
        "print(X.shape)\n",
        "print(X)"
      ],
      "metadata": {
        "colab": {
          "base_uri": "https://localhost:8080/"
        },
        "id": "Hf06xVWJS5y0",
        "outputId": "2b0609ac-c604-4e31-f8e5-b9c5a3589e76"
      },
      "execution_count": 7,
      "outputs": [
        {
          "output_type": "stream",
          "name": "stdout",
          "text": [
            "(2000000, 15)\n",
            "               income  name_email_similarity  prev_address_months_count  \\\n",
            "0        3.000000e+00           9.865060e+14                  -1.000000   \n",
            "1        8.000000e+00           6.174260e+15                  -1.000000   \n",
            "2        8.000000e+00           9.967070e+15                   9.000000   \n",
            "3        6.000000e+15           4.751000e+15                  11.000000   \n",
            "4        9.000000e+00           8.423070e+15                  -1.000000   \n",
            "...               ...                    ...                        ...   \n",
            "1999995  5.452902e+15           1.525248e+15                  -0.954800   \n",
            "1999996  8.596324e+00           4.589241e+15                  -1.073583   \n",
            "1999997  7.168099e+15           3.718091e+15                  -0.956614   \n",
            "1999998  2.843506e+00           7.728362e+15                  -0.929376   \n",
            "1999999  7.604578e+00           8.651583e+14                  32.510208   \n",
            "\n",
            "         current_address_months_count  customer_age  intended_balcon_amount  \\\n",
            "0                           25.000000     40.000000            1.024540e+16   \n",
            "1                           89.000000     20.000000           -8.495510e+15   \n",
            "2                           14.000000     40.000000           -1.490390e+16   \n",
            "3                           14.000000     30.000000           -1.863100e+16   \n",
            "4                           29.000000     40.000000            4.715250e+16   \n",
            "...                               ...           ...                     ...   \n",
            "1999995                      5.238817     29.100249           -7.445229e+15   \n",
            "1999996                     32.651627     19.316264           -7.184298e+15   \n",
            "1999997                     71.187968     29.229745           -6.237487e+15   \n",
            "1999998                    141.666200     64.171124           -8.941974e+15   \n",
            "1999999                    126.440991     30.261484           -8.347727e+15   \n",
            "\n",
            "         zip_count_4w   velocity_6h  velocity_24h   velocity_4w  \\\n",
            "0         1059.000000  1.309600e+16  7.850960e+15  6.742080e+15   \n",
            "1         1658.000000  9.223280e+15  5.745250e+15  5.941660e+16   \n",
            "2         1095.000000  4.471470e+15  5.471990e+15  5.992560e+15   \n",
            "3         3483.000000  1.443200e+16  6.755340e+14  5.970340e+15   \n",
            "4         2339.000000  7.601510e+15  5.124050e+15  5.940730e+15   \n",
            "...               ...           ...           ...           ...   \n",
            "1999995    884.081175  6.978166e+15  6.353216e+15  4.423749e+15   \n",
            "1999996   4190.497874  8.468057e+15  3.078654e+15  6.331031e+15   \n",
            "1999997   1258.115044  8.364283e+15  3.096347e+15  5.483288e+15   \n",
            "1999998   1035.649845  2.568778e+16  2.271864e+16  3.977777e+15   \n",
            "1999999   1693.890791  4.671170e+14  2.697474e+15  6.361326e+15   \n",
            "\n",
            "         credit_risk_score  bank_months_count  proposed_credit_limit  \\\n",
            "0               163.000000           9.000000           15000.000000   \n",
            "1               154.000000           2.000000           15000.000000   \n",
            "2                89.000000          30.000000            2000.000000   \n",
            "3                90.000000           1.000000            2000.000000   \n",
            "4                91.000000          26.000000            2000.000000   \n",
            "...                    ...                ...                    ...   \n",
            "1999995         171.721018          28.162869           15655.615098   \n",
            "1999996         100.731934           1.858989            1944.464995   \n",
            "1999997         241.987628          10.488249            4979.245742   \n",
            "1999998          76.788599          -0.966508           14168.889811   \n",
            "1999999          67.292537          -0.995904            2033.088263   \n",
            "\n",
            "        income_level  has_long_stable_address  \n",
            "0             Medium                        0  \n",
            "1               High                        1  \n",
            "2               High                        0  \n",
            "3               High                        0  \n",
            "4               High                        0  \n",
            "...              ...                      ...  \n",
            "1999995         High                        0  \n",
            "1999996         High                        0  \n",
            "1999997         High                        1  \n",
            "1999998          Low                        1  \n",
            "1999999         High                        1  \n",
            "\n",
            "[2000000 rows x 15 columns]\n"
          ]
        }
      ]
    },
    {
      "cell_type": "code",
      "source": [
        "def risk_group(credit_risk_score):\n",
        "    if credit_risk_score <= 83:\n",
        "        return 'Low'\n",
        "    elif 83 < credit_risk_score <= 122:\n",
        "        return 'Medium'\n",
        "    elif 122 < credit_risk_score <= 178:\n",
        "        return 'High'\n",
        "    else:\n",
        "        return 'Very High'\n",
        "X['risk_category'] = X['credit_risk_score'].apply(risk_group)\n",
        "print(X.shape)\n",
        "print(X)"
      ],
      "metadata": {
        "colab": {
          "base_uri": "https://localhost:8080/"
        },
        "id": "8nxcuLcrVvaR",
        "outputId": "c77a7819-fa8c-4741-c52b-de5e721f2a16"
      },
      "execution_count": 8,
      "outputs": [
        {
          "output_type": "stream",
          "name": "stdout",
          "text": [
            "(2000000, 16)\n",
            "               income  name_email_similarity  prev_address_months_count  \\\n",
            "0        3.000000e+00           9.865060e+14                  -1.000000   \n",
            "1        8.000000e+00           6.174260e+15                  -1.000000   \n",
            "2        8.000000e+00           9.967070e+15                   9.000000   \n",
            "3        6.000000e+15           4.751000e+15                  11.000000   \n",
            "4        9.000000e+00           8.423070e+15                  -1.000000   \n",
            "...               ...                    ...                        ...   \n",
            "1999995  5.452902e+15           1.525248e+15                  -0.954800   \n",
            "1999996  8.596324e+00           4.589241e+15                  -1.073583   \n",
            "1999997  7.168099e+15           3.718091e+15                  -0.956614   \n",
            "1999998  2.843506e+00           7.728362e+15                  -0.929376   \n",
            "1999999  7.604578e+00           8.651583e+14                  32.510208   \n",
            "\n",
            "         current_address_months_count  customer_age  intended_balcon_amount  \\\n",
            "0                           25.000000     40.000000            1.024540e+16   \n",
            "1                           89.000000     20.000000           -8.495510e+15   \n",
            "2                           14.000000     40.000000           -1.490390e+16   \n",
            "3                           14.000000     30.000000           -1.863100e+16   \n",
            "4                           29.000000     40.000000            4.715250e+16   \n",
            "...                               ...           ...                     ...   \n",
            "1999995                      5.238817     29.100249           -7.445229e+15   \n",
            "1999996                     32.651627     19.316264           -7.184298e+15   \n",
            "1999997                     71.187968     29.229745           -6.237487e+15   \n",
            "1999998                    141.666200     64.171124           -8.941974e+15   \n",
            "1999999                    126.440991     30.261484           -8.347727e+15   \n",
            "\n",
            "         zip_count_4w   velocity_6h  velocity_24h   velocity_4w  \\\n",
            "0         1059.000000  1.309600e+16  7.850960e+15  6.742080e+15   \n",
            "1         1658.000000  9.223280e+15  5.745250e+15  5.941660e+16   \n",
            "2         1095.000000  4.471470e+15  5.471990e+15  5.992560e+15   \n",
            "3         3483.000000  1.443200e+16  6.755340e+14  5.970340e+15   \n",
            "4         2339.000000  7.601510e+15  5.124050e+15  5.940730e+15   \n",
            "...               ...           ...           ...           ...   \n",
            "1999995    884.081175  6.978166e+15  6.353216e+15  4.423749e+15   \n",
            "1999996   4190.497874  8.468057e+15  3.078654e+15  6.331031e+15   \n",
            "1999997   1258.115044  8.364283e+15  3.096347e+15  5.483288e+15   \n",
            "1999998   1035.649845  2.568778e+16  2.271864e+16  3.977777e+15   \n",
            "1999999   1693.890791  4.671170e+14  2.697474e+15  6.361326e+15   \n",
            "\n",
            "         credit_risk_score  bank_months_count  proposed_credit_limit  \\\n",
            "0               163.000000           9.000000           15000.000000   \n",
            "1               154.000000           2.000000           15000.000000   \n",
            "2                89.000000          30.000000            2000.000000   \n",
            "3                90.000000           1.000000            2000.000000   \n",
            "4                91.000000          26.000000            2000.000000   \n",
            "...                    ...                ...                    ...   \n",
            "1999995         171.721018          28.162869           15655.615098   \n",
            "1999996         100.731934           1.858989            1944.464995   \n",
            "1999997         241.987628          10.488249            4979.245742   \n",
            "1999998          76.788599          -0.966508           14168.889811   \n",
            "1999999          67.292537          -0.995904            2033.088263   \n",
            "\n",
            "        income_level  has_long_stable_address risk_category  \n",
            "0             Medium                        0          High  \n",
            "1               High                        1          High  \n",
            "2               High                        0        Medium  \n",
            "3               High                        0        Medium  \n",
            "4               High                        0        Medium  \n",
            "...              ...                      ...           ...  \n",
            "1999995         High                        0          High  \n",
            "1999996         High                        0        Medium  \n",
            "1999997         High                        1     Very High  \n",
            "1999998          Low                        1           Low  \n",
            "1999999         High                        1           Low  \n",
            "\n",
            "[2000000 rows x 16 columns]\n"
          ]
        }
      ]
    },
    {
      "cell_type": "code",
      "source": [
        "plt.figure(figsize=(12, 6))\n",
        "\n",
        "# Gráfico para 'income'\n",
        "plt.subplot(1, 2, 1)\n",
        "plt.hist(data['income'], bins=30, alpha=0.5, label='Real', color='blue')\n",
        "plt.hist(syntheticData['income'], bins=30, alpha=0.5, label='Sintético', color='orange')\n",
        "plt.title('Distribución de Income')\n",
        "plt.xlabel('Income')\n",
        "plt.ylabel('Frecuencia')\n",
        "plt.legend()\n",
        "\n",
        "# Gráfico para 'credit_risk_score'\n",
        "plt.subplot(1, 2, 2)\n",
        "plt.hist(data['credit_risk_score'], bins=30, alpha=0.5, label='Real', color='blue')\n",
        "plt.hist(syntheticData['credit_risk_score'], bins=30, alpha=0.5, label='Sintético', color='orange')\n",
        "plt.title('Distribución de Credit Risk Score')\n",
        "plt.xlabel('Credit Risk Score')\n",
        "plt.ylabel('Frecuencia')\n",
        "plt.legend()\n",
        "\n",
        "# Mostrar gráficos\n",
        "plt.tight_layout()\n",
        "plt.show()"
      ],
      "metadata": {
        "colab": {
          "base_uri": "https://localhost:8080/",
          "height": 607
        },
        "id": "qZO89xU2ug3W",
        "outputId": "beade541-1680-4bf7-943e-d8681ad3aa58"
      },
      "execution_count": 9,
      "outputs": [
        {
          "output_type": "display_data",
          "data": {
            "text/plain": [
              "<Figure size 1200x600 with 2 Axes>"
            ],
            "image/png": "[encoded data removed]"
          },
          "metadata": {}
        }
      ]
    },
    {
      "cell_type": "code",
      "source": [
        "def convert_labels_to_binary(labels, uniquelabel):\n",
        "    binary_labels = np.where(labels == uniquelabel, 1, 0)\n",
        "    return binary_labels"
      ],
      "metadata": {
        "id": "cNLm2ZMX_WUM"
      },
      "execution_count": 10,
      "outputs": []
    },
    {
      "cell_type": "code",
      "source": [
        "category_mapping = {\n",
        "    'Low': 1.0,\n",
        "    'Medium': 2.0,\n",
        "    'High': 3.0\n",
        "}\n",
        "\n",
        "# Función para convertir los strings a valores flotantes usando el diccionario\n",
        "def map_category(value):\n",
        "    return category_mapping.get(value, np.nan)\n",
        "\n",
        "# Aplicar el mapeo solo a la columna de strings (índice 15, que es la columna 16)\n",
        "X.iloc[:, 13] = X.iloc[:, 13].apply(map_category)\n",
        "# Convertir toda la matriz a tipo float\n",
        "#X = X.astype(float)\n",
        "\n",
        "# Verificar que la conversión fue exitosa\n",
        "print(X.iloc[:5, :])  # Mostrar las primeras 5 filas"
      ],
      "metadata": {
        "colab": {
          "base_uri": "https://localhost:8080/"
        },
        "id": "B-Et8MAJGGm3",
        "outputId": "82cf95dd-d490-41c0-c96f-ea09b8652a10"
      },
      "execution_count": 11,
      "outputs": [
        {
          "output_type": "stream",
          "name": "stdout",
          "text": [
            "         income  name_email_similarity  prev_address_months_count  \\\n",
            "0  3.000000e+00           9.865060e+14                       -1.0   \n",
            "1  8.000000e+00           6.174260e+15                       -1.0   \n",
            "2  8.000000e+00           9.967070e+15                        9.0   \n",
            "3  6.000000e+15           4.751000e+15                       11.0   \n",
            "4  9.000000e+00           8.423070e+15                       -1.0   \n",
            "\n",
            "   current_address_months_count  customer_age  intended_balcon_amount  \\\n",
            "0                          25.0          40.0            1.024540e+16   \n",
            "1                          89.0          20.0           -8.495510e+15   \n",
            "2                          14.0          40.0           -1.490390e+16   \n",
            "3                          14.0          30.0           -1.863100e+16   \n",
            "4                          29.0          40.0            4.715250e+16   \n",
            "\n",
            "   zip_count_4w   velocity_6h  velocity_24h   velocity_4w  credit_risk_score  \\\n",
            "0        1059.0  1.309600e+16  7.850960e+15  6.742080e+15              163.0   \n",
            "1        1658.0  9.223280e+15  5.745250e+15  5.941660e+16              154.0   \n",
            "2        1095.0  4.471470e+15  5.471990e+15  5.992560e+15               89.0   \n",
            "3        3483.0  1.443200e+16  6.755340e+14  5.970340e+15               90.0   \n",
            "4        2339.0  7.601510e+15  5.124050e+15  5.940730e+15               91.0   \n",
            "\n",
            "   bank_months_count  proposed_credit_limit income_level  \\\n",
            "0                9.0                15000.0          2.0   \n",
            "1                2.0                15000.0          3.0   \n",
            "2               30.0                 2000.0          3.0   \n",
            "3                1.0                 2000.0          3.0   \n",
            "4               26.0                 2000.0          3.0   \n",
            "\n",
            "   has_long_stable_address risk_category  \n",
            "0                        0          High  \n",
            "1                        1          High  \n",
            "2                        0        Medium  \n",
            "3                        0        Medium  \n",
            "4                        0        Medium  \n"
          ]
        }
      ]
    },
    {
      "cell_type": "code",
      "source": [
        "category_mapping = {\n",
        "    'Low': 1.0,\n",
        "    'Medium': 2.0,\n",
        "    'High': 3.0,\n",
        "    'Very High': 4.0\n",
        "}\n",
        "\n",
        "# Función para convertir los strings a valores flotantes usando el diccionario\n",
        "def map_category2(value):\n",
        "    return category_mapping.get(value, np.nan)\n",
        "\n",
        "# Aplicar el mapeo solo a la columna de strings (índice 15, que es la columna 16)\n",
        "X.iloc[:, -1] = X.iloc[:, -1].apply(map_category2)\n",
        "# Convertir toda la matriz a tipo float\n",
        "#X = X.astype(float)\n",
        "\n",
        "# Verificar que la conversión fue exitosa\n",
        "print(X.iloc[:5, :])  # Mostrar las primeras 5 filas"
      ],
      "metadata": {
        "colab": {
          "base_uri": "https://localhost:8080/"
        },
        "outputId": "a2484cd7-9f70-4408-ef29-b312e3c74d23",
        "id": "VgBmq4jZde5T"
      },
      "execution_count": 12,
      "outputs": [
        {
          "output_type": "stream",
          "name": "stdout",
          "text": [
            "         income  name_email_similarity  prev_address_months_count  \\\n",
            "0  3.000000e+00           9.865060e+14                       -1.0   \n",
            "1  8.000000e+00           6.174260e+15                       -1.0   \n",
            "2  8.000000e+00           9.967070e+15                        9.0   \n",
            "3  6.000000e+15           4.751000e+15                       11.0   \n",
            "4  9.000000e+00           8.423070e+15                       -1.0   \n",
            "\n",
            "   current_address_months_count  customer_age  intended_balcon_amount  \\\n",
            "0                          25.0          40.0            1.024540e+16   \n",
            "1                          89.0          20.0           -8.495510e+15   \n",
            "2                          14.0          40.0           -1.490390e+16   \n",
            "3                          14.0          30.0           -1.863100e+16   \n",
            "4                          29.0          40.0            4.715250e+16   \n",
            "\n",
            "   zip_count_4w   velocity_6h  velocity_24h   velocity_4w  credit_risk_score  \\\n",
            "0        1059.0  1.309600e+16  7.850960e+15  6.742080e+15              163.0   \n",
            "1        1658.0  9.223280e+15  5.745250e+15  5.941660e+16              154.0   \n",
            "2        1095.0  4.471470e+15  5.471990e+15  5.992560e+15               89.0   \n",
            "3        3483.0  1.443200e+16  6.755340e+14  5.970340e+15               90.0   \n",
            "4        2339.0  7.601510e+15  5.124050e+15  5.940730e+15               91.0   \n",
            "\n",
            "   bank_months_count  proposed_credit_limit income_level  \\\n",
            "0                9.0                15000.0          2.0   \n",
            "1                2.0                15000.0          3.0   \n",
            "2               30.0                 2000.0          3.0   \n",
            "3                1.0                 2000.0          3.0   \n",
            "4               26.0                 2000.0          3.0   \n",
            "\n",
            "   has_long_stable_address risk_category  \n",
            "0                        0           3.0  \n",
            "1                        1           3.0  \n",
            "2                        0           2.0  \n",
            "3                        0           2.0  \n",
            "4                        0           2.0  \n"
          ]
        }
      ]
    },
    {
      "cell_type": "code",
      "source": [
        "X = X.drop(columns=['risk_category'])"
      ],
      "metadata": {
        "id": "zTeBx-bAcQ8F"
      },
      "execution_count": null,
      "outputs": []
    },
    {
      "cell_type": "code",
      "execution_count": 13,
      "metadata": {
        "id": "7u9Fd9k5gLL0"
      },
      "outputs": [],
      "source": [
        "def  featureNormalize(X):\n",
        "    X = np.asarray(X, dtype=np.float64)\n",
        "    X_norm = X.copy() # Use the input X to create a copy\n",
        "    mu = np.zeros(X.shape[1]) # Use the input X dimensions\n",
        "    sigma = np.zeros(X.shape[1]) # Use the input X dimensions\n",
        "\n",
        "    mu = np.mean(X, axis = 0) # Calculate the mean of the input X\n",
        "    sigma = np.std(X, axis = 0) # Calculate the standard deviation of the input X\n",
        "    X_norm = (X - mu) / sigma # Normalize the input X\n",
        "\n",
        "    return X_norm, mu, sigma"
      ]
    },
    {
      "cell_type": "code",
      "execution_count": 25,
      "metadata": {
        "id": "ELtMkiYDJVNi",
        "colab": {
          "base_uri": "https://localhost:8080/"
        },
        "outputId": "dd0c094b-8029-4afd-afd1-df3d9464d1ab"
      },
      "outputs": [
        {
          "output_type": "stream",
          "name": "stderr",
          "text": [
            "<ipython-input-13-041b7b273f9f>:9: RuntimeWarning: invalid value encountered in divide\n",
            "  X_norm = (X - mu) / sigma # Normalize the input X\n"
          ]
        }
      ],
      "source": [
        "# Configurar la matriz adecuadamente, y agregar una columna de unos que corresponde al termino de intercepción.\n",
        "m, n = X.shape\n",
        "# Agraga el termino de intercepción a A\n",
        "X_norm, mu, sigma = featureNormalize(X)\n",
        "X = X_norm\n",
        "X_allvsone = X.copy()\n",
        "X = np.concatenate([np.ones((m, 1)), X], axis=1)"
      ]
    },
    {
      "cell_type": "code",
      "source": [
        "print(X)\n",
        "\n",
        "indices = np.arange(X.shape[0])\n",
        "np.random.shuffle(indices)\n",
        "\n",
        "split_index = int(0.8 * X.shape[0])\n",
        "train_indices = indices[:split_index]\n",
        "test_indices = indices[split_index:]\n",
        "\n",
        "\n",
        "X_train = X[train_indices]\n",
        "X_test = X[test_indices]\n",
        "\n",
        "Y_train = y[train_indices]\n",
        "Y_test = y[test_indices]\n",
        "print(\"Training set shape:\", X_train.shape)\n",
        "print(\"Test set shape:\", X_test.shape)\n",
        "print(\"Training set shape:\", Y_train.shape)\n",
        "print(\"Test set shape:\", Y_test.shape)\n",
        "\n",
        "y_label0 = y.copy()\n",
        "y_label0 = convert_labels_to_binary(y_label0, 0)\n",
        "y_label1 = y.copy()\n",
        "y_label1 = convert_labels_to_binary(y_label1, 1)\n",
        "y_label2 = y.copy()\n",
        "y_label2 = convert_labels_to_binary(y_label2, 2)\n",
        "y_label3 = y.copy()\n",
        "y_label3 = convert_labels_to_binary(y_label3, 3)\n",
        "\n",
        "\n",
        "y_label0_train = y_label0[train_indices]\n",
        "y_label0_test = y_label0[test_indices]\n",
        "y_label1_train = y_label1[train_indices]\n",
        "y_label1_test = y_label1[test_indices]\n",
        "y_label2_train = y_label2[train_indices]\n",
        "y_label2_test = y_label2[test_indices]\n",
        "y_label3_train = y_label3[train_indices]\n",
        "y_label3_test = y_label3[test_indices]"
      ],
      "metadata": {
        "colab": {
          "base_uri": "https://localhost:8080/"
        },
        "id": "9CXh4NUx3LLv",
        "outputId": "94998e29-647b-451b-8352-81116e94683d"
      },
      "execution_count": 15,
      "outputs": [
        {
          "output_type": "stream",
          "name": "stdout",
          "text": [
            "[[ 1.         -0.52403166 -1.17812361 ... -0.41124638 -1.17156583\n",
            "   0.45059466]\n",
            " [ 1.         -0.52403166  0.53286646 ...  0.77937098  0.85355853\n",
            "   0.45059466]\n",
            " [ 1.         -0.52403166  1.78378551 ...  0.77937098 -1.17156583\n",
            "  -0.44304962]\n",
            " ...\n",
            " [ 1.          2.14432993 -0.27721077 ...  0.77937098  0.85355853\n",
            "   1.34423894]\n",
            " [ 1.         -0.52403166  1.04542985 ... -1.60186373  0.85355853\n",
            "  -1.3366939 ]\n",
            " [ 1.         -0.52403166 -1.21814569 ...  0.77937098  0.85355853\n",
            "  -1.3366939 ]]\n",
            "Training set shape: (1600000, 17)\n",
            "Test set shape: (400000, 17)\n",
            "Training set shape: (1600000,)\n",
            "Test set shape: (400000,)\n"
          ]
        }
      ]
    },
    {
      "cell_type": "code",
      "source": [
        "print(y_label0)\n",
        "print(y_label1)\n",
        "print(y_label2)\n",
        "print(y_label3)"
      ],
      "metadata": {
        "colab": {
          "base_uri": "https://localhost:8080/"
        },
        "id": "gTEuoPb79Pi0",
        "outputId": "7aa0c231-5be7-43a4-a889-9304df031ca9"
      },
      "execution_count": 16,
      "outputs": [
        {
          "output_type": "stream",
          "name": "stdout",
          "text": [
            "[0 0 1 ... 0 1 1]\n",
            "[1 0 0 ... 0 0 0]\n",
            "[0 0 0 ... 0 0 0]\n",
            "[0 0 0 ... 1 0 0]\n"
          ]
        }
      ]
    },
    {
      "cell_type": "code",
      "execution_count": 17,
      "metadata": {
        "id": "pk9dV23xJVNh"
      },
      "outputs": [],
      "source": [
        "def sigmoid(z):\n",
        "    # Calcula la sigmoide de una entrada z\n",
        "    # convierte la intrada a un arreglo numpy\n",
        "    z = np.array(z)\n",
        "\n",
        "    g = np.zeros(z.shape)\n",
        "\n",
        "    g = 1 / (1 + np.exp(-z))\n",
        "\n",
        "    return g"
      ]
    },
    {
      "cell_type": "code",
      "execution_count": 18,
      "metadata": {
        "id": "iqDZRIgjJVNi"
      },
      "outputs": [],
      "source": [
        "def calcularCosto(theta, X, y):\n",
        "    # Inicializar algunos valores utiles\n",
        "    m = y.size  # numero de ejemplos de entrenamiento\n",
        "\n",
        "    J = 0\n",
        "    h = sigmoid(X.dot(theta.T))\n",
        "    J = (1 / m) * np.sum(-y.dot(np.log(h)) - (1 - y).dot(np.log(1 - h)))\n",
        "    #print(J)\n",
        "    return J"
      ]
    },
    {
      "cell_type": "code",
      "execution_count": 19,
      "metadata": {
        "id": "7G4SjTrwJVNi"
      },
      "outputs": [],
      "source": [
        "def descensoGradiente(theta, X, y, alpha, num_iters):\n",
        "    # Inicializa algunos valores\n",
        "    m = y.shape[0] # numero de ejemplos de entrenamiento\n",
        "\n",
        "    # realiza una copia de theta, el cual será acutalizada por el descenso por el gradiente\n",
        "    theta = theta.copy()\n",
        "    J_history = []\n",
        "    X = np.array(X)\n",
        "    X = X.astype(float)\n",
        "    for i in range(num_iters):\n",
        "        h = sigmoid(X.dot(theta.T))\n",
        "        theta = theta - (alpha / m) * (h - y).dot(X)\n",
        "\n",
        "        J_history.append(calcularCosto(theta, X, y))\n",
        "    return theta, J_history"
      ]
    },
    {
      "cell_type": "code",
      "execution_count": 20,
      "metadata": {
        "scrolled": true,
        "colab": {
          "base_uri": "https://localhost:8080/",
          "height": 501
        },
        "id": "rBUlehg6JVNi",
        "outputId": "aedd7213-1850-4179-fb1d-528a62c2cb82"
      },
      "outputs": [
        {
          "output_type": "stream",
          "name": "stdout",
          "text": [
            "theta calculado por el descenso por el gradiente: [-0.80598454 -0.00178649 -0.027008   -0.04122685 -0.01428755  0.05594497\n",
            " -0.32925367 -0.01853751 -0.00166773  0.0077321   0.0010811   0.03708422\n",
            "  0.20257721  0.01941647 -0.01693715  0.01008117  0.02783681]\n"
          ]
        },
        {
          "output_type": "display_data",
          "data": {
            "text/plain": [
              "<Figure size 640x480 with 1 Axes>"
            ],
            "image/png": "[encoded data removed]"
          },
          "metadata": {}
        }
      ],
      "source": [
        "# Elegir algun valor para alpha (probar varias alternativas)\n",
        "alpha = 0.003\n",
        "num_iters = 3000\n",
        "\n",
        "# inicializa theta y ejecuta el descenso por el gradiente\n",
        "theta_label0 = np.zeros(17)\n",
        "theta_label0, J_history = descensoGradiente(theta_0, X_train, y_label0_train, alpha, num_iters)\n",
        "\n",
        "# Grafica la convergencia del costo\n",
        "pyplot.plot(np.arange(len(J_history)), J_history, lw=2)\n",
        "pyplot.xlabel('Numero de iteraciones')\n",
        "pyplot.ylabel('Costo J')\n",
        "\n",
        "# Muestra los resultados del descenso por el gradiente\n",
        "print('theta calculado por el descenso por el gradiente: {:s}'.format(str(theta_label0)))\n",
        "\n",
        "\n",
        "#print('Un estudiante con nota del examen 1: 80 y nota del examen 2: 46 (usando el descenso por el gradiente):{:.0f}'.format(aprueba))"
      ]
    },
    {
      "cell_type": "code",
      "execution_count": 21,
      "metadata": {
        "id": "v1wukrcCFAl5"
      },
      "outputs": [],
      "source": [
        "def predict(theta, X_test):\n",
        "    #devuelve el tamaño del primer eje de la matriz\n",
        "    m = X_test.shape[0] # Numero de ejemplo de entrenamiento\n",
        "    #Esta línea inicializa un vector p de tamaño m con ceros\n",
        "    p = np.zeros(m)\n",
        "    #Esta línea realiza las predicciones utilizando la función sigmoide y el producto punto entre X_test y theta.T\n",
        "    p = np.round(sigmoid(X_test.dot(theta.T)))\n",
        "    return p"
      ]
    },
    {
      "cell_type": "code",
      "source": [
        "p0 = predict(theta_label0, X_test)\n",
        "\n",
        "print('Precisión de entrenamiento: {:.2f} %'.format(np.mean(p == y_label0_test) * 100))"
      ],
      "metadata": {
        "colab": {
          "base_uri": "https://localhost:8080/"
        },
        "id": "KqIC87ZCGHhj",
        "outputId": "4ee60e28-c20f-4076-c137-89cf8cf0c098"
      },
      "execution_count": 22,
      "outputs": [
        {
          "output_type": "stream",
          "name": "stdout",
          "text": [
            "Precisión de entrenamiento: 71.38 %\n"
          ]
        }
      ]
    },
    {
      "cell_type": "code",
      "source": [
        "theta_label1 = np.zeros(17)\n",
        "theta_label1, J_history = descensoGradiente(theta_label1, X_train, y_label1_train, alpha, num_iters)\n",
        "\n",
        "# Grafica la convergencia del costo\n",
        "pyplot.plot(np.arange(len(J_history)), J_history, lw=2)\n",
        "pyplot.xlabel('Numero de iteraciones')\n",
        "pyplot.ylabel('Costo J')\n",
        "\n",
        "# Muestra los resultados del descenso por el gradiente\n",
        "print('theta calculado por el descenso por el gradiente: {:s}'.format(str(theta_label1)))\n",
        "p1 = predict(theta_label1, X_test)\n",
        "\n",
        "print('Precisión de entrenamiento: {:.2f} %'.format(np.mean(p1 == y_label1_test) * 100))"
      ],
      "metadata": {
        "colab": {
          "base_uri": "https://localhost:8080/",
          "height": 554
        },
        "id": "v-GnVrUFIQrk",
        "outputId": "dc06ea27-d333-4cb9-9144-28beccc8bb9a"
      },
      "execution_count": 23,
      "outputs": [
        {
          "output_type": "stream",
          "name": "stdout",
          "text": [
            "theta calculado por el descenso por el gradiente: [-1.04229992e+00  3.50106342e-03  1.42734360e-02 -2.28330448e-03\n",
            "  3.28313568e-02 -2.16605291e-02  5.76364105e-01  8.89947248e-03\n",
            " -7.59026973e-04 -3.89113810e-03 -3.31407503e-03 -3.94092301e-02\n",
            "  1.83270678e-01  1.49549152e-04  3.28079412e-02  1.86473830e-02\n",
            " -2.16342706e-02]\n",
            "Precisión de entrenamiento: 78.29 %\n"
          ]
        },
        {
          "output_type": "display_data",
          "data": {
            "text/plain": [
              "<Figure size 640x480 with 1 Axes>"
            ],
            "image/png": "[encoded data removed]"
          },
          "metadata": {}
        }
      ]
    },
    {
      "cell_type": "code",
      "source": [
        "theta_label2 = np.zeros(17)\n",
        "theta_label2, J_history = descensoGradiente(theta_label2, X_train, y_label2_train, alpha, num_iters)\n",
        "\n",
        "# Grafica la convergencia del costo\n",
        "pyplot.plot(np.arange(len(J_history)), J_history, lw=2)\n",
        "pyplot.xlabel('Numero de iteraciones')\n",
        "pyplot.ylabel('Costo J')\n",
        "\n",
        "# Muestra los resultados del descenso por el gradiente\n",
        "print('theta calculado por el descenso por el gradiente: {:s}'.format(str(theta_label2)))\n",
        "p1 = predict(theta_label2, X_test)\n",
        "\n",
        "print('Precisión de entrenamiento: {:.2f} %'.format(np.mean(p1 == y_label2_test) * 100))"
      ],
      "metadata": {
        "colab": {
          "base_uri": "https://localhost:8080/",
          "height": 554
        },
        "outputId": "a1e4e14e-6505-43db-c803-5033303d86dc",
        "id": "3O48EZzwMtfD"
      },
      "execution_count": 24,
      "outputs": [
        {
          "output_type": "stream",
          "name": "stdout",
          "text": [
            "theta calculado por el descenso por el gradiente: [-1.05923931e+00  6.84619533e-04  9.73401378e-03  3.91763402e-02\n",
            " -3.11024101e-02 -6.71680751e-03 -2.06218924e-01 -1.63812514e-02\n",
            "  1.73707751e-03 -5.82436124e-03 -3.19621854e-03  4.46946480e-03\n",
            " -4.64859466e-01 -3.29746184e-02 -2.84568161e-02  2.05753910e-02\n",
            " -6.49209575e-04]\n",
            "Precisión de entrenamiento: 77.46 %\n"
          ]
        },
        {
          "output_type": "display_data",
          "data": {
            "text/plain": [
              "<Figure size 640x480 with 1 Axes>"
            ],
            "image/png": "[encoded data removed]"
          },
          "metadata": {}
        }
      ]
    },
    {
      "cell_type": "code",
      "execution_count": 26,
      "metadata": {
        "id": "w5S0OOswSxgN"
      },
      "outputs": [],
      "source": [
        "def lrCostFunction(theta, X, y, lambda_):\n",
        "    \"\"\"\n",
        "    Calcula el costo de usar theta como parámetro para la regresión logística regularizada y\n",
        "    el gradiente del costo w.r.t. a los parámetros.\n",
        "\n",
        "    Parametros\n",
        "    ----------\n",
        "    theta : array_like\n",
        "        Parametro theta de la regresion logistica. Vector de la forma(shape) (n, ). n es el numero de caracteristicas\n",
        "        incluida la intercepcion\n",
        "\n",
        "    X : array_like\n",
        "        Dataset con la forma(shape) (m x n). m es el numero de ejemplos, y n es el numero de\n",
        "        caracteristicas (incluida la intercepcion).\n",
        "\n",
        "    y : array_like\n",
        "        El conjunto de etiquetas. Un vector con la forma (shape) (m, ). m es el numero de ejemplos\n",
        "\n",
        "    lambda_ : float\n",
        "        Parametro de regularización.\n",
        "\n",
        "    Devuelve\n",
        "    -------\n",
        "    J : float\n",
        "        El valor calculado para la funcion de costo regularizada.\n",
        "\n",
        "    grad : array_like\n",
        "        Un vector de la forma (shape) (n, ) que es el gradiente de la\n",
        "        función de costo con respecto a theta, en los valores actuales de theta..\n",
        "    \"\"\"\n",
        "#     alpha = 0.003\n",
        "#     theta = theta.copy()\n",
        "    # Inicializa algunos valores utiles\n",
        "    m = y.size\n",
        "\n",
        "    # convierte las etiquetas a valores enteros si son boleanos\n",
        "    if y.dtype == bool:\n",
        "        y = y.astype(int)\n",
        "\n",
        "    J = 0\n",
        "    grad = np.zeros(theta.shape)\n",
        "\n",
        "    h = sigmoid(X.dot(theta.T))\n",
        "\n",
        "    temp = theta\n",
        "    temp[0] = 0\n",
        "\n",
        "#     J = (1 / m) * np.sum(-y.dot(np.log(h)) - (1 - y).dot(np.log(1 - h)))\n",
        "    J = (1 / m) * np.sum(-y.dot(np.log(h)) - (1 - y).dot(np.log(1 - h))) + (lambda_ / (2 * m)) * np.sum(np.square(temp))\n",
        "\n",
        "    grad = (1 / m) * (h - y).dot(X)\n",
        "#     theta = theta - (alpha / m) * (h - y).dot(X)\n",
        "    grad = grad + (lambda_ / m) * temp\n",
        "\n",
        "    return J, grad\n",
        "#    return J, theta"
      ]
    },
    {
      "cell_type": "code",
      "execution_count": 27,
      "metadata": {
        "id": "V0rOw5qhSxgN"
      },
      "outputs": [],
      "source": [
        "def oneVsAll(X, y, num_labels, lambda_):\n",
        "    \"\"\"\n",
        "    Trains num_labels logistic regression classifiers and returns\n",
        "    each of these classifiers in a matrix all_theta, where the i-th\n",
        "    row of all_theta corresponds to the classifier for label i.\n",
        "\n",
        "    Parameters\n",
        "    ----------\n",
        "    X : array_like\n",
        "        The input dataset of shape (m x n). m is the number of\n",
        "        data points, and n is the number of features. Note that we\n",
        "        do not assume that the intercept term (or bias) is in X, however\n",
        "        we provide the code below to add the bias term to X.\n",
        "\n",
        "    y : array_like\n",
        "        The data labels. A vector of shape (m, ).\n",
        "\n",
        "    num_labels : int\n",
        "        Number of possible labels.\n",
        "\n",
        "    lambda_ : float\n",
        "        The logistic regularization parameter.\n",
        "\n",
        "    Returns\n",
        "    -------\n",
        "    all_theta : array_like\n",
        "        The trained parameters for logistic regression for each class.\n",
        "        This is a matrix of shape (K x n+1) where K is number of classes\n",
        "        (ie. `numlabels`) and n is number of features without the bias.\n",
        "    \"\"\"\n",
        "    # algunas variables utiles\n",
        "    m, n = X.shape\n",
        "\n",
        "    all_theta = np.zeros((num_labels, n + 1))\n",
        "\n",
        "    # Agrega unos a la matriz X\n",
        "    X = np.concatenate([np.ones((m, 1)), X], axis=1)\n",
        "\n",
        "    for c in np.arange(num_labels):\n",
        "        initial_theta = np.zeros(n + 1)\n",
        "        options = {'maxiter': 50}\n",
        "        res = optimize.minimize(lrCostFunction,\n",
        "                                initial_theta,\n",
        "                                (X, (y == c), lambda_),\n",
        "                                jac=True,\n",
        "                                method='CG',\n",
        "                                options=options)\n",
        "\n",
        "        all_theta[c] = res.x\n",
        "\n",
        "    return all_theta"
      ]
    }
  ]
}